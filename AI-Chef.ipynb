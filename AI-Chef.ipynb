{
 "cells": [
  {
   "cell_type": "markdown",
   "metadata": {},
   "source": [
    "# <b>DS3000 Group Project</b>"
   ]
  },
  {
   "cell_type": "markdown",
   "metadata": {},
   "source": [
    "# <b>Chef.AI</b> - Lukas Bozinov & Arjun Atwal - Group 31"
   ]
  },
  {
   "cell_type": "markdown",
   "metadata": {},
   "source": [
    "## Section 0 - Preliminary Code"
   ]
  },
  {
   "cell_type": "markdown",
   "metadata": {},
   "source": [
    "### Section 0.1: Import all necessary libraries"
   ]
  },
  {
   "cell_type": "code",
   "execution_count": 10,
   "metadata": {},
   "outputs": [],
   "source": [
    "import numpy as np #etc etc etc\n",
    "import pandas as pd\n",
    "import matplotlib.pyplot as plt\n",
    "from scipy.optimize import curve_fit\n",
    "from sklearn.metrics import mean_squared_error, r2_score\n",
    "import csv, ast, math, os\n",
    "from groq import Groq\n",
    "from dotenv import load_dotenv"
   ]
  },
  {
   "cell_type": "markdown",
   "metadata": {},
   "source": [
    "## Section 1 - Organization of Dataset"
   ]
  },
  {
   "cell_type": "markdown",
   "metadata": {},
   "source": [
    "### Section 1.1: Parse the dataset\n",
    "Formatting data into a format that is easily passed to math functions."
   ]
  },
  {
   "cell_type": "code",
   "execution_count": 11,
   "metadata": {},
   "outputs": [
    {
     "name": "stdout",
     "output_type": "stream",
     "text": [
      "None\n"
     ]
    }
   ],
   "source": [
    "# written by lukas (i am the goat)\n",
    "\n",
    "load_dotenv()\n",
    "a=os.getenv(\"OPENAI_API_KEY\")\n",
    "print(a)\n",
    "\n",
    "class Food:\n",
    "    def __init__(self, food_name, food_group, colour_day, mass_day, temp_day):\n",
    "        self.food_name = food_name\n",
    "        self.food_group = food_group\n",
    "        self.colour_day = colour_day\n",
    "        self.mass_day = mass_day\n",
    "        self.temp_day = temp_day\n",
    "\n",
    "    def __str__(self):\n",
    "        return (\n",
    "            f\"Food Name: {self.food_name}\\n\"\n",
    "        )\n",
    "\n",
    "foodList_train = []\n",
    "\n",
    "with open('ourData.csv', \"r\") as commentedFile: \n",
    "    reader = csv.reader(commentedFile)\n",
    "    next(reader)  # skip line of headers\n",
    "\n",
    "    for row in reader:\n",
    "        food_name = row[0].strip()\n",
    "        food_group = row[1].strip()\n",
    "        colour_day_raw = row[2].strip()\n",
    "        mass_day_raw = row[3].strip()\n",
    "        temp_day_raw = row[4].strip()\n",
    "\n",
    "        colour_day_list = ast.literal_eval(colour_day_raw)\n",
    "        mass_day_list = ast.literal_eval(mass_day_raw)\n",
    "        temp_day_list = ast.literal_eval(temp_day_raw)\n",
    "\n",
    "        # Use lists instead of dictionaries because duplicate values erases entries that we need\n",
    "        colour_day = colour_day_list\n",
    "        mass_day = mass_day_list\n",
    "        temp_day = temp_day_list\n",
    "\n",
    "        food = Food(food_name, food_group, colour_day, mass_day, temp_day)\n",
    "\n",
    "        foodList_train.append(food)\n",
    "\n",
    "# get total number of days for later processing\n",
    "numDays_train = len(foodList_train[0].colour_day)\n",
    "\n",
    "#TEST\n",
    "\n",
    "foodList_test = []\n",
    "\n",
    "with open('ourDataTest.csv', \"r\") as commentedFile: \n",
    "    reader = csv.reader(commentedFile)\n",
    "    next(reader)  # skip line of headers\n",
    "\n",
    "    for row in reader:\n",
    "        food_name = row[0].strip()\n",
    "        food_group = row[1].strip()\n",
    "        colour_day_raw = row[2].strip()\n",
    "        mass_day_raw = row[3].strip()\n",
    "        temp_day_raw = row[4].strip()\n",
    "\n",
    "        colour_day_list = ast.literal_eval(colour_day_raw)\n",
    "        mass_day_list = ast.literal_eval(mass_day_raw)\n",
    "        temp_day_list = ast.literal_eval(temp_day_raw)\n",
    "\n",
    "        # Use lists instead of dictionaries because duplicate values erases entries that we need\n",
    "        colour_day = colour_day_list\n",
    "        mass_day = mass_day_list\n",
    "        temp_day = temp_day_list\n",
    "\n",
    "        food = Food(food_name, food_group, colour_day, mass_day, temp_day)\n",
    "\n",
    "        foodList_test.append(food)\n",
    "\n",
    "# get total number of days for later processing\n",
    "numDays_test = len(foodList_test[0].colour_day)\n",
    "\n"
   ]
  },
  {
   "cell_type": "markdown",
   "metadata": {},
   "source": [
    "### Section 1.2: Data Pre-Processing\n",
    "Passing Data to math functions to create mass factors"
   ]
  },
  {
   "cell_type": "code",
   "execution_count": 12,
   "metadata": {},
   "outputs": [],
   "source": [
    "# import deez\n",
    "\n",
    "def freshness_index(time, mass_initial, mass_curr, temp_curr, temp_optimal, color_curr, color_optimal, weight_mass = 0.5, weight_temp = 0.3, weight_color = 0.2, alpha = 0.3, sigma = 5, lambda_ = 0.05):\n",
    "\n",
    "    # Mass Factor - not certain about this\n",
    "    mass_factor = (math.exp(-alpha * time * (mass_curr / mass_initial))) * weight_mass\n",
    "    # print(mass_factor)\n",
    "\n",
    "    # Temperature Factor\n",
    "    temp_factor = math.exp(-((temp_curr - temp_optimal) ** 2) / (2 * sigma ** 2)) * weight_temp\n",
    "    # print(temp_factor)\n",
    "\n",
    "    # Color Factor - asm color_curr, color_optimal are in range RGB(0-255, 0-255, 0-255)\n",
    "    color_diff = math.sqrt((color_curr[0] - color_optimal[0]) ** 2 + (color_curr[1] - color_optimal[1]) ** 2 + (color_curr[2] - color_optimal[2]) ** 2)\n",
    "    color_factor = math.exp(-lambda_ * color_diff) * weight_color\n",
    "    # print(color_factor)\n",
    "\n",
    "    # Freshness Index\n",
    "    freshness_index = mass_factor + temp_factor + color_factor\n",
    "    return min(1, freshness_index) # with the weights summing to 1, the maximum value of the freshness index is 1\n",
    "\n",
    "def train_freshness_index(food_name):\n",
    "\n",
    "    # find the food object\n",
    "    food = None\n",
    "    for i in range(len(foodList_train)):\n",
    "        if foodList_train[i].food_name == food_name:\n",
    "            food = foodList_train[i]\n",
    "            break\n",
    "\n",
    "    if food == None:\n",
    "        print('Food not found')\n",
    "        exit()\n",
    "\n",
    "    # find the index of the food object\n",
    "    food_index = foodList_train.index(food)\n",
    "\n",
    "    # initialize optimal values for the freshness_index function\n",
    "    color_optimal = (foodList_train[food_index].colour_day[0][0])\n",
    "    temp_optimal = foodList_train[food_index].temp_day[0][0]\n",
    "    mass_initial = foodList_train[food_index].mass_day[0][0]\n",
    "\n",
    "    days = []\n",
    "    for i in range(numDays_train):\n",
    "        days.append(i)\n",
    "\n",
    "        #freshness_values = np.array([1.0, 0.710923868536591, 0.63709970475181, 0.511606076772564, 0.44434784966860497, 0.40576335646495826, 0.381205757697219])\n",
    "\n",
    "    days = np.array(days)\n",
    "\n",
    "    freshness_values_train = []\n",
    "\n",
    "    for i in range(numDays_train):\n",
    "        color_curr = (foodList_train[food_index].colour_day[i][0])\n",
    "        temp_curr = foodList_train[food_index].temp_day[i][0]\n",
    "        mass_curr = foodList_train[food_index].mass_day[i][0]\n",
    "        time = i\n",
    "\n",
    "        print('Time =', time)\n",
    "        freshnessindex_train = freshness_index(time, mass_initial, mass_curr, temp_curr, temp_optimal, color_curr, color_optimal)\n",
    "        print(freshnessindex_train)\n",
    "        freshness_values_train.append(freshnessindex_train)\n",
    "\n",
    "    freshness_values_train = np.array(freshness_values_train)\n",
    "\n",
    "    print(days)\n",
    "    print(freshness_values_train)\n",
    "    return days, freshness_values_train\n",
    "\n",
    "def test_freshness_index(food_name):\n",
    "\n",
    "    #TEST - dont need to ask for food name again\n",
    "\n",
    "    # find the food object\n",
    "    food = None\n",
    "    for i in range(len(foodList_test)):\n",
    "        if foodList_test[i].food_name == food_name:\n",
    "            food = foodList_test[i]\n",
    "            break\n",
    "\n",
    "    if food == None:\n",
    "        print('Food not found')\n",
    "        exit()\n",
    "\n",
    "    # find the index of the food object\n",
    "    food_index = foodList_test.index(food)\n",
    "\n",
    "    # initialize optimal values for the freshness_index function\n",
    "    color_optimal = (foodList_test[food_index].colour_day[0][0])\n",
    "    temp_optimal = foodList_test[food_index].temp_day[0][0]\n",
    "    mass_initial = foodList_test[food_index].mass_day[0][0]\n",
    "\n",
    "    days_test = []\n",
    "    for i in range(numDays_test):\n",
    "        days_test.append(i)\n",
    "\n",
    "        #freshness_values = np.array([1.0, 0.710923868536591, 0.63709970475181, 0.511606076772564, 0.44434784966860497, 0.40576335646495826, 0.381205757697219])\n",
    "\n",
    "    days_test = np.array(days_test)\n",
    "\n",
    "    freshness_values_test = []\n",
    "\n",
    "    for i in range(numDays_test):\n",
    "        color_curr = (foodList_test[food_index].colour_day[i][0])\n",
    "        temp_curr = foodList_test[food_index].temp_day[i][0]\n",
    "        mass_curr = foodList_test[food_index].mass_day[i][0]\n",
    "        time = i\n",
    "\n",
    "        print('Time =', time)\n",
    "        freshnessindex_test = freshness_index(time, mass_initial, mass_curr, temp_curr, temp_optimal, color_curr, color_optimal)\n",
    "        print(freshnessindex_test)\n",
    "        freshness_values_test.append(freshnessindex_test)\n",
    "\n",
    "    freshness_values_test = np.array(freshness_values_test)\n",
    "\n",
    "    print(days_test)\n",
    "    print(freshness_values_test)\n",
    "    return days_test, freshness_values_test\n",
    "\n"
   ]
  },
  {
   "cell_type": "markdown",
   "metadata": {},
   "source": [
    "## Section 2 - Mathematical Function Initialization"
   ]
  },
  {
   "cell_type": "markdown",
   "metadata": {},
   "source": [
    "### Section 2.1: Sigmoid Function Declaration"
   ]
  },
  {
   "cell_type": "code",
   "execution_count": 13,
   "metadata": {},
   "outputs": [],
   "source": [
    "import numpy as np\n",
    "import matplotlib.pyplot as plt\n",
    "from scipy.optimize import curve_fit\n",
    "from sklearn.metrics import mean_squared_error, r2_score\n",
    "\n",
    "def freshness_sigmoid_model(t, L, k, t_0):\n",
    "    return L / (1 + np.exp(-k * (t - t_0)))\n",
    "\n",
    "\n",
    "\n",
    "def sigmoid_model_regression(days, freshness_values_train, days_test, freshness_values_test):\n",
    "\n",
    "    # Assuming days, days_test, freshness_values_train, and freshness_values_test are already defined. \n",
    "    days_train = days\n",
    "    freshness_train = freshness_values_train\n",
    "    days_test = days_test\n",
    "    freshness_test = freshness_values_test\n",
    "\n",
    "    # Provide initial parameter guesses and increase maxfev\n",
    "    initial_guesses = [1, 1, 12]\n",
    "\n",
    "    params, covariance = curve_fit(\n",
    "        freshness_sigmoid_model,\n",
    "        days_train,\n",
    "        freshness_train,\n",
    "        p0=initial_guesses,\n",
    "        maxfev=20000\n",
    "    )\n",
    "\n",
    "    L, k, t_0 = params\n",
    "\n",
    "    predicted_train = freshness_sigmoid_model(days_train, L, k, t_0)\n",
    "    predicted_test = freshness_sigmoid_model(days_test, L, k, t_0)\n",
    "\n",
    "    mse_train = mean_squared_error(freshness_train, predicted_train)\n",
    "    mse_test = mean_squared_error(freshness_test, predicted_test)\n",
    "\n",
    "    print(f\"Mean Squared Error on Training Data: {mse_train}\")\n",
    "    print(f\"Mean Squared Error on Test Data: {mse_test}\")\n",
    "\n",
    "    r2_train = r2_score(freshness_train, predicted_train)\n",
    "    r2_test = r2_score(freshness_test, predicted_test)\n",
    "\n",
    "    print(f\"R^2 on Training Data: {r2_train}\")\n",
    "    print(f\"R^2 on Test Data: {r2_test}\")\n",
    "\n",
    "    days_extended = np.linspace(0, 24, 100)\n",
    "    predicted_freshness = freshness_sigmoid_model(days_extended, L, k, t_0)\n",
    "\n",
    "    # Find the day when the freshness index equals 0.8, 0.6, and 0.4\n",
    "    target_values = [0.8, 0.6, 0.4]\n",
    "    target_days = {}\n",
    "\n",
    "    for target in target_values:\n",
    "        closest_day = None\n",
    "        closest_diff = float('inf')\n",
    "        for i in range(len(predicted_freshness)):\n",
    "            diff = abs(predicted_freshness[i] - target)\n",
    "            if diff < closest_diff:\n",
    "                closest_diff = diff\n",
    "                closest_day = days_extended[i]\n",
    "        target_days[target] = closest_day\n",
    "\n",
    "    for target, day in target_days.items():\n",
    "        print(f\"Day when freshness index is closest to {target}: {day}\")\n",
    "\n",
    "    plt.scatter(days, freshness_values_train, color='blue', label='Observed Data Points')\n",
    "    plt.plot(days_extended, predicted_freshness, color='red', label='Nonlinear Sigmoid Decay Curve')\n",
    "    plt.xlabel('Days')\n",
    "    plt.ylabel('Freshness Index')\n",
    "    plt.title('Nonlinear Freshness Index Decay with Expected Spoilage at Day 7')\n",
    "    plt.legend()\n",
    "    plt.show()\n",
    "\n",
    "    return target_days\n",
    "\n",
    "# sigmoid_model_regression()"
   ]
  },
  {
   "cell_type": "markdown",
   "metadata": {},
   "source": [
    "### Section 2.2: Life coach for meals so i guess just the chef part?"
   ]
  },
  {
   "cell_type": "code",
   "execution_count": 29,
   "metadata": {},
   "outputs": [
    {
     "name": "stdout",
     "output_type": "stream",
     "text": [
      "Time = 0\n",
      "1\n",
      "Time = 1\n",
      "0.710923868536591\n",
      "Time = 2\n",
      "0.63709970475181\n",
      "Time = 3\n",
      "0.511606076772564\n",
      "Time = 4\n",
      "0.44434784966860497\n",
      "Time = 5\n",
      "0.40576335646495826\n",
      "Time = 6\n",
      "0.381205757697219\n",
      "[0 1 2 3 4 5 6]\n",
      "[1.         0.71092387 0.6370997  0.51160608 0.44434785 0.40576336\n",
      " 0.38120576]\n",
      "Time = 0\n",
      "1\n",
      "Time = 1\n",
      "0.7131630360573626\n",
      "Time = 2\n",
      "0.6425531404188921\n",
      "Time = 3\n",
      "0.4948446994286173\n",
      "Time = 4\n",
      "0.46135035350384773\n",
      "Time = 5\n",
      "0.38234044107776954\n",
      "Time = 6\n",
      "0.380944703280409\n",
      "[0 1 2 3 4 5 6]\n",
      "[1.         0.71316304 0.64255314 0.4948447  0.46135035 0.38234044\n",
      " 0.3809447 ]\n",
      "Mean Squared Error on Training Data: 0.0021799151339045512\n",
      "Mean Squared Error on Test Data: 0.002223782781585922\n",
      "R^2 on Training Data: 0.9473125773522019\n",
      "R^2 on Test Data: 0.9477694116058286\n",
      "Day when freshness index is closest to 0.8: 0.9696969696969697\n",
      "Day when freshness index is closest to 0.6: 2.4242424242424243\n",
      "Day when freshness index is closest to 0.4: 4.848484848484849\n"
     ]
    },
    {
     "name": "stderr",
     "output_type": "stream",
     "text": [
      "C:\\Users\\Arjun\\AppData\\Local\\Temp\\ipykernel_11248\\1039339099.py:7: RuntimeWarning: overflow encountered in exp\n",
      "  return L / (1 + np.exp(-k * (t - t_0)))\n"
     ]
    },
    {
     "data": {
      "image/png": "[encoded data removed]",
      "text/plain": [
       "<Figure size 640x480 with 1 Axes>"
      ]
     },
     "metadata": {},
     "output_type": "display_data"
    },
    {
     "name": "stdout",
     "output_type": "stream",
     "text": [
      "Time = 0\n",
      "1\n",
      "Time = 1\n",
      "0.7078775120271888\n",
      "Time = 2\n",
      "0.5778485465357864\n",
      "Time = 3\n",
      "0.5016814424216284\n",
      "Time = 4\n",
      "0.4536541194342206\n",
      "Time = 5\n",
      "0.4146433553635352\n",
      "Time = 6\n",
      "0.38054662085438773\n",
      "[0 1 2 3 4 5 6]\n",
      "[1.         0.70787751 0.57784855 0.50168144 0.45365412 0.41464336\n",
      " 0.38054662]\n",
      "Time = 0\n",
      "1\n",
      "Time = 1\n",
      "0.7094647218017864\n",
      "Time = 2\n",
      "0.577519332634822\n",
      "Time = 3\n",
      "0.501701310573873\n",
      "Time = 4\n",
      "0.45348056022819955\n",
      "Time = 5\n",
      "0.41462651350654917\n",
      "Time = 6\n",
      "0.3804836543024271\n",
      "[0 1 2 3 4 5 6]\n",
      "[1.         0.70946472 0.57751933 0.50170131 0.45348056 0.41462651\n",
      " 0.38048365]\n",
      "Mean Squared Error on Training Data: 0.0030869068792972704\n",
      "Mean Squared Error on Test Data: 0.0030641790591056464\n",
      "R^2 on Training Data: 0.9233469985972416\n",
      "R^2 on Test Data: 0.9240429261577978\n",
      "Day when freshness index is closest to 0.8: 0.7272727272727273\n",
      "Day when freshness index is closest to 0.6: 2.4242424242424243\n",
      "Day when freshness index is closest to 0.4: 4.606060606060606\n"
     ]
    },
    {
     "name": "stderr",
     "output_type": "stream",
     "text": [
      "C:\\Users\\Arjun\\AppData\\Local\\Temp\\ipykernel_11248\\1039339099.py:7: RuntimeWarning: overflow encountered in exp\n",
      "  return L / (1 + np.exp(-k * (t - t_0)))\n"
     ]
    },
    {
     "data": {
      "image/png": "[encoded data removed]",
      "text/plain": [
       "<Figure size 640x480 with 1 Axes>"
      ]
     },
     "metadata": {},
     "output_type": "display_data"
    },
    {
     "name": "stdout",
     "output_type": "stream",
     "text": [
      "Time = 0\n",
      "1\n",
      "Time = 1\n",
      "0.8726382457216444\n",
      "Time = 2\n",
      "0.695518518250311\n",
      "Time = 3\n",
      "0.5078117297636942\n",
      "Time = 4\n",
      "0.46383657719623816\n",
      "Time = 5\n",
      "0.4221520671368199\n",
      "Time = 6\n",
      "0.3741702478887078\n",
      "[0 1 2 3 4 5 6]\n",
      "[1.         0.87263825 0.69551852 0.50781173 0.46383658 0.42215207\n",
      " 0.37417025]\n",
      "Time = 0\n",
      "1\n",
      "Time = 1\n",
      "0.8447577047386869\n",
      "Time = 2\n",
      "0.6557712348717788\n",
      "Time = 3\n",
      "0.4577902486009087\n",
      "Time = 4\n",
      "0.4683203035838363\n",
      "Time = 5\n",
      "0.40705018433047535\n",
      "Time = 6\n",
      "0.3511833681365167\n",
      "[0 1 2 3 4 5 6]\n",
      "[1.         0.8447577  0.65577123 0.45779025 0.4683203  0.40705018\n",
      " 0.35118337]\n",
      "Mean Squared Error on Training Data: 0.0012624373281904058\n",
      "Mean Squared Error on Test Data: 0.002394813002845474\n",
      "R^2 on Training Data: 0.9747855653478839\n",
      "R^2 on Test Data: 0.9533936154342847\n",
      "Day when freshness index is closest to 0.8: 1.2121212121212122\n",
      "Day when freshness index is closest to 0.6: 2.909090909090909\n",
      "Day when freshness index is closest to 0.4: 5.090909090909091\n"
     ]
    },
    {
     "name": "stderr",
     "output_type": "stream",
     "text": [
      "C:\\Users\\Arjun\\AppData\\Local\\Temp\\ipykernel_11248\\1039339099.py:7: RuntimeWarning: overflow encountered in exp\n",
      "  return L / (1 + np.exp(-k * (t - t_0)))\n"
     ]
    },
    {
     "data": {
      "image/png": "[encoded data removed]",
      "text/plain": [
       "<Figure size 640x480 with 1 Axes>"
      ]
     },
     "metadata": {},
     "output_type": "display_data"
    }
   ],
   "source": [
    "# take target_days which contains the days when the freshness index is closest to 0.8, 0.6, and 0.4\n",
    "# these are our categories, anything before 0.8 is good to eat, anything between 0.8 and 0.6 is okay to eat, and anything after 0.6 is bad to eat\n",
    "# loop the above for all foods (or however many we wish to analyze) and store the results in a dictionary or something\n",
    "# then, simply go week by week\n",
    "# optimize meal planning based on this information\n",
    "\n",
    "inputted_foods = []\n",
    "freshness_values_per_food = []\n",
    "\n",
    "try:\n",
    "    n = int(input('How many foods would you like to analyze? For best results, enter a number above 3: '))\n",
    "except ValueError:\n",
    "    print(\"Invalid input. Please enter a valid number.\")\n",
    "    n = int(input('How many foods would you like to analyze? '))\n",
    "\n",
    "for item in range(n):\n",
    "    # which food are we looking at\n",
    "    for i in range(len(foodList_train)):  # print all options\n",
    "        food_options = [foodList_train[i].food_name for i in range(len(foodList_train))]\n",
    "    food_name = input('\\nEnter the name of the food you would like to analyze:\\nOptions are ' + ', '.join(food_options) + '\\n')\n",
    "\n",
    "    inputted_foods.append(food_name)\n",
    "\n",
    "    train_values = train_freshness_index(food_name)\n",
    "    test_values = test_freshness_index(food_name)\n",
    "    freshness_values = sigmoid_model_regression(train_values[0], train_values[1], test_values[0], test_values[1])\n",
    "    freshness_values_per_food.append((food_name, freshness_values))\n",
    "\n",
    "# print(freshness_values_per_food)\n",
    "\n",
    "\n",
    "    \n",
    "    \n",
    "\n",
    "\n",
    "\n"
   ]
  },
  {
   "cell_type": "markdown",
   "metadata": {},
   "source": [
    "## Section 3 - ChatGPT wrapper"
   ]
  },
  {
   "cell_type": "markdown",
   "metadata": {},
   "source": [
    "Which Foods to use First\n"
   ]
  },
  {
   "cell_type": "code",
   "execution_count": null,
   "metadata": {},
   "outputs": [
    {
     "name": "stdout",
     "output_type": "stream",
     "text": [
      "['Apple', 'Pineapple', 'Naan Bread']\n"
     ]
    },
    {
     "ename": "ValueError",
     "evalue": "list.remove(x): x not in list",
     "output_type": "error",
     "traceback": [
      "\u001b[1;31m---------------------------------------------------------------------------\u001b[0m",
      "\u001b[1;31mValueError\u001b[0m                                Traceback (most recent call last)",
      "Cell \u001b[1;32mIn[30], line 42\u001b[0m\n\u001b[0;32m     40\u001b[0m             min_food \u001b[38;5;241m=\u001b[39m food\n\u001b[0;32m     41\u001b[0m     recs_04\u001b[38;5;241m.\u001b[39mappend(min_food[\u001b[38;5;241m0\u001b[39m])\n\u001b[1;32m---> 42\u001b[0m     \u001b[43mfreshness_values_per_food\u001b[49m\u001b[38;5;241;43m.\u001b[39;49m\u001b[43mremove\u001b[49m\u001b[43m(\u001b[49m\u001b[43mmin_food\u001b[49m\u001b[43m)\u001b[49m\n\u001b[0;32m     43\u001b[0m \u001b[38;5;28mprint\u001b[39m(recs_04)\n",
      "\u001b[1;31mValueError\u001b[0m: list.remove(x): x not in list"
     ]
    }
   ],
   "source": [
    "num_recs = len(freshness_values_per_food)\n",
    "num_recs_08 = math.ceil(num_recs)\n",
    "num_recs_06 = math.floor(num_recs)\n",
    "num_recs_04 = math.floor(num_recs)\n",
    "\n",
    "# for 0.8\n",
    "recs_08 = []\n",
    "for i in range(num_recs_08):\n",
    "    min_08 = float('inf')\n",
    "    for food in freshness_values_per_food:\n",
    "        if food[1][0.8] < min_08:\n",
    "            min_08 = food[1][0.8]\n",
    "            min_food = food\n",
    "    recs_08.append(min_food[0])\n",
    "    freshness_values_per_food.remove(min_food)\n",
    "print(recs_08)\n",
    "\n",
    "# for 0.6\n",
    "recs_06 = []\n",
    "for i in range(num_recs_06):\n",
    "    min_06 = float('inf')\n",
    "    for food in freshness_values_per_food:\n",
    "        if food[1][0.6] < min_06:\n",
    "            min_06 = food[1][0.6]\n",
    "            min_food = food\n",
    "    recs_06.append(min_food[0])\n",
    "    freshness_values_per_food.remove(min_food)\n",
    "print(recs_06)\n",
    "\n",
    "# for 0.4\n",
    "recs_04 = []\n",
    "for i in range(num_recs_04):\n",
    "    min_04 = float('inf')\n",
    "    for food in freshness_values_per_food:\n",
    "        if food[1][0.4] < min_04:\n",
    "            min_04 = food[1][0.4]\n",
    "            min_food = food\n",
    "    recs_04.append(min_food[0])\n",
    "    freshness_values_per_food.remove(min_food)\n",
    "print(recs_04)\n",
    "\n",
    "final_recs = []\n",
    "for i in range(num_recs):\n",
    "    if recs_08[i] == recs_06[i] == recs_04[i]:\n",
    "        final_recs.append(recs_08[i])\n",
    "print(final_recs)\n",
    "\n",
    "\n",
    "    \n",
    "\n"
   ]
  },
  {
   "cell_type": "markdown",
   "metadata": {},
   "source": [
    "### Section 3.1: Do the thing"
   ]
  },
  {
   "cell_type": "code",
   "execution_count": null,
   "metadata": {},
   "outputs": [
    {
     "ename": "GroqError",
     "evalue": "The api_key client option must be set either by passing api_key to the client or by setting the GROQ_API_KEY environment variable",
     "output_type": "error",
     "traceback": [
      "\u001b[1;31m---------------------------------------------------------------------------\u001b[0m",
      "\u001b[1;31mGroqError\u001b[0m                                 Traceback (most recent call last)",
      "Cell \u001b[1;32mIn[15], line 9\u001b[0m\n\u001b[0;32m      3\u001b[0m     prompt \u001b[38;5;241m+\u001b[39m\u001b[38;5;241m=\u001b[39m (i \u001b[38;5;241m+\u001b[39m \u001b[38;5;124m\"\u001b[39m\u001b[38;5;124m, \u001b[39m\u001b[38;5;124m\"\u001b[39m)\n\u001b[0;32m      7\u001b[0m \u001b[38;5;66;03m#print(os.getenv(\"OPENAI_API_KEY\"))\u001b[39;00m\n\u001b[1;32m----> 9\u001b[0m client \u001b[38;5;241m=\u001b[39m \u001b[43mGroq\u001b[49m\u001b[43m(\u001b[49m\n\u001b[0;32m     10\u001b[0m \u001b[43m    \u001b[49m\u001b[43mapi_key\u001b[49m\u001b[38;5;241;43m=\u001b[39;49m\u001b[43mos\u001b[49m\u001b[38;5;241;43m.\u001b[39;49m\u001b[43menviron\u001b[49m\u001b[38;5;241;43m.\u001b[39;49m\u001b[43mget\u001b[49m\u001b[43m(\u001b[49m\u001b[38;5;124;43m\"\u001b[39;49m\u001b[38;5;124;43mGROQ_API_KEY\u001b[39;49m\u001b[38;5;124;43m\"\u001b[39;49m\u001b[43m)\u001b[49m\u001b[43m,\u001b[49m\n\u001b[0;32m     11\u001b[0m \u001b[43m)\u001b[49m\n\u001b[0;32m     13\u001b[0m client \u001b[38;5;241m=\u001b[39m Groq()\n\u001b[0;32m     16\u001b[0m chat_completion \u001b[38;5;241m=\u001b[39m client\u001b[38;5;241m.\u001b[39mchat\u001b[38;5;241m.\u001b[39mcompletions\u001b[38;5;241m.\u001b[39mcreate(\n\u001b[0;32m     17\u001b[0m     messages\u001b[38;5;241m=\u001b[39m[\n\u001b[0;32m     18\u001b[0m         {\n\u001b[1;32m   (...)\u001b[0m\n\u001b[0;32m     28\u001b[0m     model\u001b[38;5;241m=\u001b[39m\u001b[38;5;124m\"\u001b[39m\u001b[38;5;124mllama3-8b-8192\u001b[39m\u001b[38;5;124m\"\u001b[39m\n\u001b[0;32m     29\u001b[0m )\n",
      "File \u001b[1;32mc:\\Users\\Arjun\\AppData\\Local\\Programs\\Python\\Python312\\Lib\\site-packages\\groq\\_client.py:89\u001b[0m, in \u001b[0;36mGroq.__init__\u001b[1;34m(self, api_key, base_url, timeout, max_retries, default_headers, default_query, http_client, _strict_response_validation)\u001b[0m\n\u001b[0;32m     87\u001b[0m     api_key \u001b[38;5;241m=\u001b[39m os\u001b[38;5;241m.\u001b[39menviron\u001b[38;5;241m.\u001b[39mget(\u001b[38;5;124m\"\u001b[39m\u001b[38;5;124mGROQ_API_KEY\u001b[39m\u001b[38;5;124m\"\u001b[39m)\n\u001b[0;32m     88\u001b[0m \u001b[38;5;28;01mif\u001b[39;00m api_key \u001b[38;5;129;01mis\u001b[39;00m \u001b[38;5;28;01mNone\u001b[39;00m:\n\u001b[1;32m---> 89\u001b[0m     \u001b[38;5;28;01mraise\u001b[39;00m GroqError(\n\u001b[0;32m     90\u001b[0m         \u001b[38;5;124m\"\u001b[39m\u001b[38;5;124mThe api_key client option must be set either by passing api_key to the client or by setting the GROQ_API_KEY environment variable\u001b[39m\u001b[38;5;124m\"\u001b[39m\n\u001b[0;32m     91\u001b[0m     )\n\u001b[0;32m     92\u001b[0m \u001b[38;5;28mself\u001b[39m\u001b[38;5;241m.\u001b[39mapi_key \u001b[38;5;241m=\u001b[39m api_key\n\u001b[0;32m     94\u001b[0m \u001b[38;5;28;01mif\u001b[39;00m base_url \u001b[38;5;129;01mis\u001b[39;00m \u001b[38;5;28;01mNone\u001b[39;00m:\n",
      "\u001b[1;31mGroqError\u001b[0m: The api_key client option must be set either by passing api_key to the client or by setting the GROQ_API_KEY environment variable"
     ]
    }
   ],
   "source": [
    "prompt = \"\"\n",
    "for i in inputted_foods:\n",
    "    prompt += (i + \", \")\n",
    "\n",
    "\n",
    "\n",
    "#print(os.getenv(\"OPENAI_API_KEY\"))\n",
    "\n",
    "client = Groq(\n",
    "    api_key=os.environ.get(\"GROQ_API_KEY\"),\n",
    ")\n",
    "\n",
    "client = Groq()\n",
    "\n",
    "\n",
    "chat_completion = client.chat.completions.create(\n",
    "    messages=[\n",
    "        {\n",
    "            \"role\": \"system\",\n",
    "            \"content\": \"You are a chef.\"\n",
    "        },\n",
    "        {\n",
    "            \"role\": \"user\",\n",
    "            \"content\": \"Give me a recipe that I can make that exclusively uses these ingredients: Do not use any other items except for common household items like seasoning, oil, etc.\" + prompt,\n",
    "        }\n",
    "    ],\n",
    "\n",
    "    model=\"llama3-8b-8192\"\n",
    ")\n",
    "\n",
    "print(chat_completion.choices[0].message.content)"
   ]
  },
  {
   "cell_type": "markdown",
   "metadata": {},
   "source": [
    "### Section 3.2: Fit model"
   ]
  },
  {
   "cell_type": "code",
   "execution_count": null,
   "metadata": {},
   "outputs": [
    {
     "name": "stdout",
     "output_type": "stream",
     "text": [
      "model.fit go brrrrr\n"
     ]
    }
   ],
   "source": [
    "print('model.fit go brrrrr')"
   ]
  },
  {
   "cell_type": "markdown",
   "metadata": {},
   "source": [
    "### Section 3.3: Evaluate accuracy"
   ]
  },
  {
   "cell_type": "code",
   "execution_count": null,
   "metadata": {},
   "outputs": [
    {
     "name": "stdout",
     "output_type": "stream",
     "text": [
      "auroc man idk\n"
     ]
    }
   ],
   "source": [
    "print('auroc man idk')"
   ]
  },
  {
   "cell_type": "markdown",
   "metadata": {},
   "source": [
    "## Section 4 - Visualization"
   ]
  },
  {
   "cell_type": "markdown",
   "metadata": {},
   "source": [
    "### Section 4.1: Line graph"
   ]
  },
  {
   "cell_type": "code",
   "execution_count": null,
   "metadata": {},
   "outputs": [
    {
     "name": "stdout",
     "output_type": "stream",
     "text": [
      "something something matplotlib\n"
     ]
    }
   ],
   "source": [
    "print('something something matplotlib')"
   ]
  },
  {
   "cell_type": "markdown",
   "metadata": {},
   "source": [
    "### Section 4.2: Other visualization"
   ]
  },
  {
   "cell_type": "code",
   "execution_count": null,
   "metadata": {},
   "outputs": [
    {
     "name": "stdout",
     "output_type": "stream",
     "text": [
      "something something seaborn\n"
     ]
    }
   ],
   "source": [
    "print('something something seaborn')"
   ]
  },
  {
   "cell_type": "markdown",
   "metadata": {},
   "source": [
    "## Section 5 - Comparisons to other models (?)"
   ]
  },
  {
   "cell_type": "markdown",
   "metadata": {},
   "source": [
    "### Section 5.1: Comparison to linear regression"
   ]
  },
  {
   "cell_type": "code",
   "execution_count": null,
   "metadata": {},
   "outputs": [
    {
     "name": "stdout",
     "output_type": "stream",
     "text": [
      "news flash: linear regression sucks\n"
     ]
    }
   ],
   "source": [
    "print('news flash: linear regression sucks')"
   ]
  },
  {
   "cell_type": "markdown",
   "metadata": {},
   "source": [
    "## Section 6 - Conclusions to draw"
   ]
  },
  {
   "cell_type": "code",
   "execution_count": null,
   "metadata": {},
   "outputs": [
    {
     "name": "stdout",
     "output_type": "stream",
     "text": [
      "overall, our model is better than the other one\n"
     ]
    }
   ],
   "source": [
    "print('overall, our model is better than the other one')"
   ]
  }
 ],
 "metadata": {
  "kernelspec": {
   "display_name": "Python 3",
   "language": "python",
   "name": "python3"
  },
  "language_info": {
   "codemirror_mode": {
    "name": "ipython",
    "version": 3
   },
   "file_extension": ".py",
   "mimetype": "text/x-python",
   "name": "python",
   "nbconvert_exporter": "python",
   "pygments_lexer": "ipython3",
   "version": "3.12.3"
  }
 },
 "nbformat": 4,
 "nbformat_minor": 2
}
