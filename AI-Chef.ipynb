{
 "cells": [
  {
   "cell_type": "markdown",
   "metadata": {},
   "source": [
    "# <b>DS3000 Group Project</b>"
   ]
  },
  {
   "cell_type": "markdown",
   "metadata": {},
   "source": [
    "# <b>Chef.AI</b> - Lukas Bozinov & Arjun Atwal - Group 31"
   ]
  },
  {
   "cell_type": "markdown",
   "metadata": {},
   "source": [
    "## Section 0 - Preliminary Code"
   ]
  },
  {
   "cell_type": "markdown",
   "metadata": {},
   "source": [
    "### Section 0.1: Import all necessary libraries"
   ]
  },
  {
   "cell_type": "code",
   "execution_count": 1,
   "metadata": {},
   "outputs": [],
   "source": [
    "import numpy as np #etc etc etc\n",
    "import pandas as pd\n",
    "import matplotlib.pyplot as plt\n",
    "from scipy.optimize import curve_fit\n",
    "from sklearn.metrics import mean_squared_error, r2_score\n",
    "import csv, ast, math"
   ]
  },
  {
   "cell_type": "markdown",
   "metadata": {},
   "source": [
    "### Section 0.2: Other things"
   ]
  },
  {
   "cell_type": "code",
   "execution_count": 2,
   "metadata": {},
   "outputs": [
    {
     "name": "stdout",
     "output_type": "stream",
     "text": [
      "balls in 3D\n"
     ]
    }
   ],
   "source": [
    "print('balls in 3D')"
   ]
  },
  {
   "cell_type": "markdown",
   "metadata": {},
   "source": [
    "## Section 1 - Organization of Dataset"
   ]
  },
  {
   "cell_type": "markdown",
   "metadata": {},
   "source": [
    "### Section 1.1: Parse the dataset\n",
    "Formatting data into a format that is easily passed to math functions."
   ]
  },
  {
   "cell_type": "code",
   "execution_count": 3,
   "metadata": {},
   "outputs": [
    {
     "name": "stdout",
     "output_type": "stream",
     "text": [
      "food name: Apple\n",
      "food name: Apple\n"
     ]
    }
   ],
   "source": [
    "# written by lukas (i am the goat)\n",
    "\n",
    "class Food:\n",
    "    def __init__(self, food_name, food_group, colour_day, mass_day, temp_day):\n",
    "        self.food_name = food_name\n",
    "        self.food_group = food_group\n",
    "        self.colour_day = colour_day\n",
    "        self.mass_day = mass_day\n",
    "        self.temp_day = temp_day\n",
    "\n",
    "    def __str__(self):\n",
    "        return (\n",
    "            f\"Food Name: {self.food_name}\\n\"\n",
    "            f\"Food Group: {self.food_group}\\n\"\n",
    "            f\"Colour (RGB) by Day: {self.colour_day}\\n\"\n",
    "            f\"Mass (grams) by Day: {self.mass_day}\\n\"\n",
    "            f\"Temperature (degrees C) by Day: {self.temp_day}\\n\"\n",
    "        )\n",
    "\n",
    "foodList_train = []\n",
    "\n",
    "with open('ourData.csv', \"r\") as commentedFile: \n",
    "    reader = csv.reader(commentedFile)\n",
    "    next(reader)  # skip line of headers\n",
    "\n",
    "    for row in reader:\n",
    "        food_name = row[0].strip()\n",
    "        food_group = row[1].strip()\n",
    "        colour_day_raw = row[2].strip()\n",
    "        mass_day_raw = row[3].strip()\n",
    "        temp_day_raw = row[4].strip()\n",
    "\n",
    "        colour_day_list = ast.literal_eval(colour_day_raw)\n",
    "        mass_day_list = ast.literal_eval(mass_day_raw)\n",
    "        temp_day_list = ast.literal_eval(temp_day_raw)\n",
    "\n",
    "        # Use lists instead of dictionaries because duplicate values erases entries that we need\n",
    "        colour_day = colour_day_list\n",
    "        mass_day = mass_day_list\n",
    "        temp_day = temp_day_list\n",
    "\n",
    "        food = Food(food_name, food_group, colour_day, mass_day, temp_day)\n",
    "\n",
    "        foodList_train.append(food)\n",
    "\n",
    "# get total number of days for later processing\n",
    "numDays_train = len(foodList_train[0].colour_day)\n",
    "print('food name:', foodList_train[0].food_name)\n",
    "\n",
    "#TEST\n",
    "\n",
    "foodList_test = []\n",
    "\n",
    "with open('ourDataTest.csv', \"r\") as commentedFile: \n",
    "    reader = csv.reader(commentedFile)\n",
    "    next(reader)  # skip line of headers\n",
    "\n",
    "    for row in reader:\n",
    "        food_name = row[0].strip()\n",
    "        food_group = row[1].strip()\n",
    "        colour_day_raw = row[2].strip()\n",
    "        mass_day_raw = row[3].strip()\n",
    "        temp_day_raw = row[4].strip()\n",
    "\n",
    "        colour_day_list = ast.literal_eval(colour_day_raw)\n",
    "        mass_day_list = ast.literal_eval(mass_day_raw)\n",
    "        temp_day_list = ast.literal_eval(temp_day_raw)\n",
    "\n",
    "        # Use lists instead of dictionaries because duplicate values erases entries that we need\n",
    "        colour_day = colour_day_list\n",
    "        mass_day = mass_day_list\n",
    "        temp_day = temp_day_list\n",
    "\n",
    "        food = Food(food_name, food_group, colour_day, mass_day, temp_day)\n",
    "\n",
    "        foodList_test.append(food)\n",
    "\n",
    "# get total number of days for later processing\n",
    "numDays_test = len(foodList_test[0].colour_day)\n",
    "print('food name:', foodList_test[0].food_name)\n",
    "\n"
   ]
  },
  {
   "cell_type": "markdown",
   "metadata": {},
   "source": [
    "### Section 1.2: Data Pre-Processing\n",
    "Passing Data to math functions to create mass factors"
   ]
  },
  {
   "cell_type": "code",
   "execution_count": 4,
   "metadata": {},
   "outputs": [
    {
     "name": "stdout",
     "output_type": "stream",
     "text": [
      "Apple\n",
      "Blueberry\n",
      "Cherry Tomato\n",
      "Naan Bread\n",
      "Celery\n",
      "Iceberg Lettuce\n",
      "Red Grapes\n",
      "White Bread\n",
      "Ground Beef\n",
      "Chicken Breasts\n",
      "Swiss Cheese\n",
      "Plain Yogurt\n",
      "Pineapple\n",
      "Time = 0\n",
      "1\n",
      "Time = 1\n",
      "0.710923868536591\n",
      "Time = 2\n",
      "0.63709970475181\n",
      "Time = 3\n",
      "0.511606076772564\n",
      "Time = 4\n",
      "0.44434784966860497\n",
      "Time = 5\n",
      "0.40576335646495826\n",
      "Time = 6\n",
      "0.381205757697219\n",
      "[0 1 2 3 4 5 6]\n",
      "[1.         0.71092387 0.6370997  0.51160608 0.44434785 0.40576336\n",
      " 0.38120576]\n",
      "Apple\n",
      "Blueberry\n",
      "Cherry Tomato\n",
      "Naan Bread\n",
      "Celery\n",
      "Iceberg Lettuce\n",
      "Red Grapes\n",
      "White Bread\n",
      "Ground Beef\n",
      "Chicken Breasts\n",
      "Swiss Cheese\n",
      "Plain Yogurt\n",
      "Pineapple\n",
      "Time = 0\n",
      "1\n",
      "Time = 1\n",
      "0.7131630360573626\n",
      "Time = 2\n",
      "0.6425531404188921\n",
      "Time = 3\n",
      "0.4948446994286173\n",
      "Time = 4\n",
      "0.46135035350384773\n",
      "Time = 5\n",
      "0.38234044107776954\n",
      "Time = 6\n",
      "0.380944703280409\n",
      "[0 1 2 3 4 5 6]\n",
      "[1.         0.71316304 0.64255314 0.4948447  0.46135035 0.38234044\n",
      " 0.3809447 ]\n"
     ]
    }
   ],
   "source": [
    "# import deez\n",
    "\n",
    "def freshness_index(time, mass_initial, mass_curr, temp_curr, temp_optimal, color_curr, color_optimal, weight_mass = 0.5, weight_temp = 0.3, weight_color = 0.2, alpha = 0.3, sigma = 5, lambda_ = 0.05):\n",
    "\n",
    "    # Mass Factor - not certain about this\n",
    "    mass_factor = (math.exp(-alpha * time * (mass_curr / mass_initial))) * weight_mass\n",
    "    # print(mass_factor)\n",
    "\n",
    "    # Temperature Factor\n",
    "    temp_factor = math.exp(-((temp_curr - temp_optimal) ** 2) / (2 * sigma ** 2)) * weight_temp\n",
    "    # print(temp_factor)\n",
    "\n",
    "    # Color Factor - asm color_curr, color_optimal are in range RGB(0-255, 0-255, 0-255)\n",
    "    color_diff = math.sqrt((color_curr[0] - color_optimal[0]) ** 2 + (color_curr[1] - color_optimal[1]) ** 2 + (color_curr[2] - color_optimal[2]) ** 2)\n",
    "    color_factor = math.exp(-lambda_ * color_diff) * weight_color\n",
    "    # print(color_factor)\n",
    "\n",
    "    # Freshness Index\n",
    "    freshness_index = mass_factor + temp_factor + color_factor\n",
    "    return min(1, freshness_index) # with the weights summing to 1, the maximum value of the freshness index is 1\n",
    "\n",
    "# which food are we looking at\n",
    "for i in range(len(foodList_train)): # print all options\n",
    "    print(foodList_train[i].food_name)\n",
    "food_name = input('\\nEnter the name of the food you would like to analyze: ')\n",
    "\n",
    "# find the food object\n",
    "food = None\n",
    "for i in range(len(foodList_train)):\n",
    "    if foodList_train[i].food_name == food_name:\n",
    "        food = foodList_train[i]\n",
    "        break\n",
    "\n",
    "if food == None:\n",
    "    print('Food not found')\n",
    "    exit()\n",
    "\n",
    "# find the index of the food object\n",
    "food_index = foodList_train.index(food)\n",
    "\n",
    "# initialize optimal values for the freshness_index function\n",
    "color_optimal = (foodList_train[food_index].colour_day[0][0])\n",
    "temp_optimal = foodList_train[food_index].temp_day[0][0]\n",
    "mass_initial = foodList_train[food_index].mass_day[0][0]\n",
    "\n",
    "days = []\n",
    "for i in range(numDays_train):\n",
    "    days.append(i)\n",
    "\n",
    "    #freshness_values = np.array([1.0, 0.710923868536591, 0.63709970475181, 0.511606076772564, 0.44434784966860497, 0.40576335646495826, 0.381205757697219])\n",
    "\n",
    "days = np.array(days)\n",
    "\n",
    "freshness_values_train = []\n",
    "\n",
    "for i in range(numDays_train):\n",
    "    color_curr = (foodList_train[food_index].colour_day[i][0])\n",
    "    temp_curr = foodList_train[food_index].temp_day[i][0]\n",
    "    mass_curr = foodList_train[food_index].mass_day[i][0]\n",
    "    time = i\n",
    "\n",
    "    print('Time =', time)\n",
    "    freshnessindex_train = freshness_index(time, mass_initial, mass_curr, temp_curr, temp_optimal, color_curr, color_optimal)\n",
    "    print(freshnessindex_train)\n",
    "    freshness_values_train.append(freshnessindex_train)\n",
    "\n",
    "freshness_values_train = np.array(freshness_values_train)\n",
    "\n",
    "print(days)\n",
    "print(freshness_values_train)\n",
    "\n",
    "#TEST\n",
    "\n",
    "# which food are we looking at\n",
    "for i in range(len(foodList_test)): # print all options\n",
    "    print(foodList_test[i].food_name)\n",
    "food_name = input('\\nEnter the name of the food you would like to analyze: ')\n",
    "\n",
    "# find the food object\n",
    "food = None\n",
    "for i in range(len(foodList_test)):\n",
    "    if foodList_test[i].food_name == food_name:\n",
    "        food = foodList_test[i]\n",
    "        break\n",
    "\n",
    "if food == None:\n",
    "    print('Food not found')\n",
    "    exit()\n",
    "\n",
    "# find the index of the food object\n",
    "food_index = foodList_test.index(food)\n",
    "\n",
    "# initialize optimal values for the freshness_index function\n",
    "color_optimal = (foodList_test[food_index].colour_day[0][0])\n",
    "temp_optimal = foodList_test[food_index].temp_day[0][0]\n",
    "mass_initial = foodList_test[food_index].mass_day[0][0]\n",
    "\n",
    "days_test = []\n",
    "for i in range(numDays_test):\n",
    "    days_test.append(i)\n",
    "\n",
    "    #freshness_values = np.array([1.0, 0.710923868536591, 0.63709970475181, 0.511606076772564, 0.44434784966860497, 0.40576335646495826, 0.381205757697219])\n",
    "\n",
    "days_test = np.array(days_test)\n",
    "\n",
    "freshness_values_test = []\n",
    "\n",
    "for i in range(numDays_test):\n",
    "    color_curr = (foodList_test[food_index].colour_day[i][0])\n",
    "    temp_curr = foodList_test[food_index].temp_day[i][0]\n",
    "    mass_curr = foodList_test[food_index].mass_day[i][0]\n",
    "    time = i\n",
    "\n",
    "    print('Time =', time)\n",
    "    freshnessindex_test = freshness_index(time, mass_initial, mass_curr, temp_curr, temp_optimal, color_curr, color_optimal)\n",
    "    print(freshnessindex_test)\n",
    "    freshness_values_test.append(freshnessindex_test)\n",
    "\n",
    "freshness_values_test = np.array(freshness_values_test)\n",
    "\n",
    "print(days_test)\n",
    "print(freshness_values_test)\n",
    "\n"
   ]
  },
  {
   "cell_type": "markdown",
   "metadata": {},
   "source": [
    "## Section 2 - Mathematical Function Initialization"
   ]
  },
  {
   "cell_type": "markdown",
   "metadata": {},
   "source": [
    "### Section 2.1: Sigmoid Function Declaration"
   ]
  },
  {
   "cell_type": "code",
   "execution_count": 22,
   "metadata": {},
   "outputs": [
    {
     "name": "stdout",
     "output_type": "stream",
     "text": [
      "Mean Squared Error on Training Data: 0.0021799152575388524\n",
      "Mean Squared Error on Test Data: 0.23929145801059296\n",
      "R^2 on Training Data: 0.9473125743640247\n",
      "R^2 on Test Data: -4.6203032747106105\n",
      "Day when freshness index is closest to 0.8: 1.1313131313131313\n",
      "Day when freshness index is closest to 0.6: 2.2626262626262625\n",
      "Day when freshness index is closest to 0.4: 4.525252525252525\n"
     ]
    },
    {
     "name": "stderr",
     "output_type": "stream",
     "text": [
      "/var/folders/yn/mrj5wlcn5413qz7236tzylpm0000gn/T/ipykernel_39031/2407620595.py:7: RuntimeWarning: overflow encountered in exp\n",
      "  return L / (1 + np.exp(-k * (t - t_0)))\n"
     ]
    },
    {
     "data": {
      "image/png": "[encoded data removed]",
      "text/plain": [
       "<Figure size 640x480 with 1 Axes>"
      ]
     },
     "metadata": {},
     "output_type": "display_data"
    }
   ],
   "source": [
    "import numpy as np\n",
    "import matplotlib.pyplot as plt\n",
    "from scipy.optimize import curve_fit\n",
    "from sklearn.metrics import mean_squared_error, r2_score\n",
    "\n",
    "def freshness_sigmoid_model(t, L, k, t_0):\n",
    "    return L / (1 + np.exp(-k * (t - t_0)))\n",
    "\n",
    "# Assuming days, days_test, freshness_values_train, and freshness_values_test are already defined. \n",
    "days_train = days\n",
    "freshness_train = freshness_values_train\n",
    "days_test = days_test\n",
    "freshness_test = freshness_values_test\n",
    "\n",
    "def sigmoid_model_regression():\n",
    "\n",
    "    # Provide initial parameter guesses and increase maxfev\n",
    "    initial_guesses = [1, 1, 12]\n",
    "\n",
    "    params, covariance = curve_fit(\n",
    "        freshness_sigmoid_model,\n",
    "        days_train,\n",
    "        freshness_train,\n",
    "        p0=initial_guesses,\n",
    "        maxfev=20000\n",
    "    )\n",
    "\n",
    "    L, k, t_0 = params\n",
    "\n",
    "    predicted_train = freshness_sigmoid_model(days_train, L, k, t_0)\n",
    "    predicted_test = freshness_sigmoid_model(days_test, L, k, t_0)\n",
    "\n",
    "    mse_train = mean_squared_error(freshness_train, predicted_train)\n",
    "    mse_test = mean_squared_error(freshness_test, predicted_test)\n",
    "\n",
    "    print(f\"Mean Squared Error on Training Data: {mse_train}\")\n",
    "    print(f\"Mean Squared Error on Test Data: {mse_test}\")\n",
    "\n",
    "    r2_train = r2_score(freshness_train, predicted_train)\n",
    "    r2_test = r2_score(freshness_test, predicted_test)\n",
    "\n",
    "    print(f\"R^2 on Training Data: {r2_train}\")\n",
    "    print(f\"R^2 on Test Data: {r2_test}\")\n",
    "\n",
    "    days_extended = np.linspace(0, 56, 100)\n",
    "    predicted_freshness = freshness_sigmoid_model(days_extended, L, k, t_0)\n",
    "\n",
    "    # Find the day when the freshness index equals 0.8, 0.6, and 0.4\n",
    "    target_values = [0.8, 0.6, 0.4]\n",
    "    target_days = {}\n",
    "\n",
    "    for target in target_values:\n",
    "        closest_day = None\n",
    "        closest_diff = float('inf')\n",
    "        for i in range(len(predicted_freshness)):\n",
    "            diff = abs(predicted_freshness[i] - target)\n",
    "            if diff < closest_diff:\n",
    "                closest_diff = diff\n",
    "                closest_day = days_extended[i]\n",
    "        target_days[target] = closest_day\n",
    "\n",
    "    for target, day in target_days.items():\n",
    "        print(f\"Day when freshness index is closest to {target}: {day}\")\n",
    "\n",
    "    plt.scatter(days, freshness_values_train, color='blue', label='Observed Data Points')\n",
    "    plt.plot(days_extended, predicted_freshness, color='red', label='Nonlinear Sigmoid Decay Curve')\n",
    "    plt.xlabel('Days')\n",
    "    plt.ylabel('Freshness Index')\n",
    "    plt.title('Nonlinear Freshness Index Decay with Expected Spoilage at Day 7')\n",
    "    plt.legend()\n",
    "    plt.show()\n",
    "\n",
    "sigmoid_model_regression()"
   ]
  },
  {
   "cell_type": "markdown",
   "metadata": {},
   "source": [
    "### Section 2.2: Life coach for meals so i guess just the chef part?"
   ]
  },
  {
   "cell_type": "code",
   "execution_count": 6,
   "metadata": {},
   "outputs": [
    {
     "name": "stdout",
     "output_type": "stream",
     "text": [
      "more math\n"
     ]
    }
   ],
   "source": [
    "# take target_days which contains the days when the freshness index is closest to 0.8, 0.6, and 0.4\n",
    "# these are our categories, anything before 0.8 is good to eat, anything between 0.8 and 0.6 is okay to eat, and anything after 0.6 is bad to eat\n",
    "# loop the above for all foods (or however many we wish to analyze) and store the results in a dictionary or something\n",
    "# then, simply go week by week\n",
    "# optimize meal planning based on this information\n",
    "\n"
   ]
  },
  {
   "cell_type": "markdown",
   "metadata": {},
   "source": [
    "## Section 3 - Modelling"
   ]
  },
  {
   "cell_type": "markdown",
   "metadata": {},
   "source": [
    "### Section 3.1: Load data into model"
   ]
  },
  {
   "cell_type": "code",
   "execution_count": 7,
   "metadata": {},
   "outputs": [
    {
     "name": "stdout",
     "output_type": "stream",
     "text": [
      "LOAD IT MAN\n"
     ]
    }
   ],
   "source": [
    "print('LOAD IT MAN')"
   ]
  },
  {
   "cell_type": "markdown",
   "metadata": {},
   "source": [
    "### Section 3.2: Fit model"
   ]
  },
  {
   "cell_type": "code",
   "execution_count": 8,
   "metadata": {},
   "outputs": [
    {
     "name": "stdout",
     "output_type": "stream",
     "text": [
      "model.fit go brrrrr\n"
     ]
    }
   ],
   "source": [
    "print('model.fit go brrrrr')"
   ]
  },
  {
   "cell_type": "markdown",
   "metadata": {},
   "source": [
    "### Section 3.3: Evaluate accuracy"
   ]
  },
  {
   "cell_type": "code",
   "execution_count": 9,
   "metadata": {},
   "outputs": [
    {
     "name": "stdout",
     "output_type": "stream",
     "text": [
      "auroc man idk\n"
     ]
    }
   ],
   "source": [
    "print('auroc man idk')"
   ]
  },
  {
   "cell_type": "markdown",
   "metadata": {},
   "source": [
    "## Section 4 - Visualization"
   ]
  },
  {
   "cell_type": "markdown",
   "metadata": {},
   "source": [
    "### Section 4.1: Line graph"
   ]
  },
  {
   "cell_type": "code",
   "execution_count": 10,
   "metadata": {},
   "outputs": [
    {
     "name": "stdout",
     "output_type": "stream",
     "text": [
      "something something matplotlib\n"
     ]
    }
   ],
   "source": [
    "print('something something matplotlib')"
   ]
  },
  {
   "cell_type": "markdown",
   "metadata": {},
   "source": [
    "### Section 4.2: Other visualization"
   ]
  },
  {
   "cell_type": "code",
   "execution_count": 11,
   "metadata": {},
   "outputs": [
    {
     "name": "stdout",
     "output_type": "stream",
     "text": [
      "something something seaborn\n"
     ]
    }
   ],
   "source": [
    "print('something something seaborn')"
   ]
  },
  {
   "cell_type": "markdown",
   "metadata": {},
   "source": [
    "## Section 5 - Comparisons to other models (?)"
   ]
  },
  {
   "cell_type": "markdown",
   "metadata": {},
   "source": [
    "### Section 5.1: Comparison to linear regression"
   ]
  },
  {
   "cell_type": "code",
   "execution_count": 12,
   "metadata": {},
   "outputs": [
    {
     "name": "stdout",
     "output_type": "stream",
     "text": [
      "news flash: linear regression sucks\n"
     ]
    }
   ],
   "source": [
    "print('news flash: linear regression sucks')"
   ]
  },
  {
   "cell_type": "markdown",
   "metadata": {},
   "source": [
    "## Section 6 - Conclusions to draw"
   ]
  },
  {
   "cell_type": "code",
   "execution_count": 13,
   "metadata": {},
   "outputs": [
    {
     "name": "stdout",
     "output_type": "stream",
     "text": [
      "overall, our model is better than the other one\n"
     ]
    }
   ],
   "source": [
    "print('overall, our model is better than the other one')"
   ]
  }
 ],
 "metadata": {
  "kernelspec": {
   "display_name": "Python 3",
   "language": "python",
   "name": "python3"
  },
  "language_info": {
   "codemirror_mode": {
    "name": "ipython",
    "version": 3
   },
   "file_extension": ".py",
   "mimetype": "text/x-python",
   "name": "python",
   "nbconvert_exporter": "python",
   "pygments_lexer": "ipython3",
   "version": "3.12.6"
  }
 },
 "nbformat": 4,
 "nbformat_minor": 2
}
