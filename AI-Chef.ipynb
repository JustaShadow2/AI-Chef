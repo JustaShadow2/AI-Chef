{
 "cells": [
  {
   "cell_type": "markdown",
   "metadata": {},
   "source": [
    "# <b>DS3000 Group Project</b>"
   ]
  },
  {
   "cell_type": "markdown",
   "metadata": {},
   "source": [
    "# <b>Chef.AI</b> - Lukas Bozinov & Arjun Atwal - Group 31"
   ]
  },
  {
   "cell_type": "markdown",
   "metadata": {},
   "source": [
    "## Section 0 - Preliminary Code"
   ]
  },
  {
   "cell_type": "markdown",
   "metadata": {},
   "source": [
    "### Section 0.1: Import all necessary libraries"
   ]
  },
  {
   "cell_type": "code",
   "execution_count": 31,
   "metadata": {},
   "outputs": [],
   "source": [
    "import math\n",
    "import numpy as np #etc etc etc\n",
    "import pandas as pd\n",
    "import matplotlib.pyplot as plt\n",
    "from scipy.optimize import curve_fit\n",
    "import csv, ast"
   ]
  },
  {
   "cell_type": "markdown",
   "metadata": {},
   "source": [
    "### Section 0.2: Other things"
   ]
  },
  {
   "cell_type": "code",
   "execution_count": 24,
   "metadata": {},
   "outputs": [
    {
     "name": "stdout",
     "output_type": "stream",
     "text": [
      "balls in 3D\n"
     ]
    }
   ],
   "source": [
    "print('balls in 3D')"
   ]
  },
  {
   "cell_type": "markdown",
   "metadata": {},
   "source": [
    "## Section 1 - Organization of Dataset"
   ]
  },
  {
   "cell_type": "markdown",
   "metadata": {},
   "source": [
    "### Section 1.1: Parse the dataset"
   ]
  },
  {
   "cell_type": "code",
   "execution_count": 25,
   "metadata": {},
   "outputs": [
    {
     "name": "stdout",
     "output_type": "stream",
     "text": [
      "balls\n"
     ]
    }
   ],
   "source": [
    "print('balls')"
   ]
  },
  {
   "cell_type": "markdown",
   "metadata": {},
   "source": [
    "### Section 1.2: Data Pre-Processing"
   ]
  },
  {
   "cell_type": "markdown",
   "metadata": {},
   "source": [
    "Formatting Data into a format that is easily passed to math functions"
   ]
  },
  {
   "cell_type": "code",
   "execution_count": 65,
   "metadata": {},
   "outputs": [
    {
     "name": "stdout",
     "output_type": "stream",
     "text": [
      "Food Name: Apple\n",
      "Food Group: Fruit/Veg\n",
      "Colour (RGB) by Day: ([(253, 110, 80), 0], [(238, 105, 105), 1], [(235, 103, 94), 2], [(173, 73, 66), 3], [(130, 52, 47), 4], [(128, 44, 41), 5], [(145, 62, 41), 6])\n",
      "Mass (grams) by Day: ([126, 0], [125, 1], [120, 2], [118, 3], [115, 4], [114, 5], [110, 6])\n",
      "Temperature (degrees C) by Day: ([12, 0], [11, 1], [13, 2], [13, 3], [14, 4], [14, 5], [14, 6])\n",
      "\n",
      "Food Name: Blueberry\n",
      "Food Group: Fruit/Veg\n",
      "Colour (RGB) by Day: ([(0, 21, 165), 0], [(0, 20, 154), 1], [(13, 12, 107), 2], [(4, 3, 89), 3], [(2, 1, 74), 4], [(2, 1, 61), 5], [(5, 1, 36), 6])\n",
      "Mass (grams) by Day: ([51, 0], [51, 1], [48, 2], [47, 3], [47, 4], [45, 5], [42, 6])\n",
      "Temperature (degrees C) by Day: ([9, 0], [8, 1], [9, 2], [9, 3], [10, 4], [11, 5], [11, 6])\n",
      "\n",
      "Food Name: Cherry Tomato\n",
      "Food Group: Fruit/Veg\n",
      "Colour (RGB) by Day: ([(207, 40, 40), 0], [(200, 39, 39), 1], [(168, 22, 12), 2], [(140, 17, 8), 3], [(143, 10, 1), 4], [(128, 8, 0), 5], [(107, 7, 0), 6])\n",
      "Mass (grams) by Day: ([114, 0], [113, 1], [111, 2], [110, 3], [110, 4], [109, 5], [106, 6])\n",
      "Temperature (degrees C) by Day: ([7, 0], [7, 1], [9, 2], [9, 3], [10, 4], [11, 5], [11, 6])\n",
      "\n",
      "Food Name: Naan Bread\n",
      "Food Group: Grain\n",
      "Colour (RGB) by Day: ([(255, 244, 224), 0], [(255, 244, 224), 1], [(252, 239, 215), 2], [(227, 214, 191), 3], [(214, 200, 174), 4], [(212, 195, 163), 5], [(166, 150, 121), 6])\n",
      "Mass (grams) by Day: ([100, 0], [98, 1], [94, 2], [93, 3], [92, 4], [92, 5], [91, 6])\n",
      "Temperature (degrees C) by Day: ([22, 0], [22, 1], [23, 2], [24, 3], [23, 4], [23, 5], [24, 6])\n",
      "\n",
      "Food Name: Celery\n",
      "Food Group: Fruit/Veg\n",
      "Colour (RGB) by Day: ([(236, 255, 205), 0], [(236, 255, 205), 1], [(229, 252, 192), 2], [(211, 235, 174), 3], [(199, 224, 157), 4], [(186, 212, 144), 5], [(160, 181, 125), 6])\n",
      "Mass (grams) by Day: ([130, 0], [130, 1], [128, 2], [128, 3], [127, 4], [124, 5], [119, 6])\n",
      "Temperature (degrees C) by Day: ([9, 0], [9, 1], [10, 2], [10, 3], [11, 4], [11, 5], [11, 6])\n",
      "\n",
      "Food Name: Iceberg Lettuce\n",
      "Food Group: Fruit/Veg\n",
      "Colour (RGB) by Day: ([(162, 221, 58), 0], [(156, 213, 55), 1], [(141, 191, 52), 2], [(125, 166, 51), 3], [(121, 153, 64), 4], [(100, 128, 51), 5], [(80, 102, 43), 6])\n",
      "Mass (grams) by Day: ([40, 0], [39, 1], [37, 2], [37, 3], [35, 4], [30, 5], [28, 6])\n",
      "Temperature (degrees C) by Day: ([9, 0], [9, 1], [9, 2], [10, 3], [10, 4], [11, 5], [12, 6])\n",
      "\n",
      "Food Name: Red Grapes\n",
      "Food Group: Fruit/Veg\n",
      "Colour (RGB) by Day: ([(77, 2, 2), 0], [(77, 2, 2), 1], [(64, 1, 1), 2], [(54, 2, 2), 3], [(54, 1, 1), 4], [(50, 2, 2), 5], [(47, 1, 2), 6])\n",
      "Mass (grams) by Day: ([6, 0], [6, 1], [6, 2], [5, 3], [5, 4], [4, 5], [4, 6])\n",
      "Temperature (degrees C) by Day: ([11, 0], [10, 1], [10, 2], [9, 3], [9, 4], [10, 5], [10, 6])\n",
      "\n",
      "Food Name: White Bread\n",
      "Food Group: Grain\n",
      "Colour (RGB) by Day: ([(252, 251, 235), 0], [(252, 251, 235), 1], [(252, 251, 234), 2], [(230, 228, 211), 3], [(222, 220, 195), 4], [(209, 207, 180), 5], [(189, 187, 159), 6])\n",
      "Mass (grams) by Day: ([65, 0], [64, 1], [60, 2], [59, 3], [59, 4], [58, 5], [55, 6])\n",
      "Temperature (degrees C) by Day: ([21, 0], [21, 1], [22, 2], [22, 3], [23, 4], [22, 5], [23, 6])\n",
      "\n",
      "Food Name: Ground Beef\n",
      "Food Group: Meat\n",
      "Colour (RGB) by Day: ([(115, 36, 36), 0], [(102, 31, 31), 1], [(94, 25, 25), 2], [(82, 21, 21), 3], [(74, 16, 16), 4], [(71, 28, 28), 5], [(71, 31, 31), 6])\n",
      "Mass (grams) by Day: ([454, 0], [450, 1], [444, 2], [443, 3], [441, 4], [440, 5], [438, 6])\n",
      "Temperature (degrees C) by Day: ([11, 0], [11, 1], [12, 2], [11, 3], [12, 4], [12, 5], [13, 6])\n",
      "\n",
      "Food Name: Chicken Breasts\n",
      "Food Group: Meat\n",
      "Colour (RGB) by Day: ([(246, 228, 247), 0], [(252, 230, 248), 1], [(203, 190, 204), 2], [(184, 171, 183), 3], [(184, 171, 181), 4], [(189, 177, 186), 5], [(168, 160, 166), 6])\n",
      "Mass (grams) by Day: ([250, 0], [249, 1], [244, 2], [238, 3], [227, 4], [220, 5], [206, 6])\n",
      "Temperature (degrees C) by Day: ([12, 0], [12, 1], [14, 2], [14, 3], [15, 4], [16, 5], [18, 6])\n",
      "\n",
      "Food Name: Swiss Cheese\n",
      "Food Group: Dairy\n",
      "Colour (RGB) by Day: ([(221, 222, 166), 0], [(218, 219, 156), 1], [(197, 201, 159), 2], [(187, 191, 149), 3], [(180, 184, 143), 4], [(163, 166, 133), 5], [(145, 148, 121), 6])\n",
      "Mass (grams) by Day: ([20, 0], [19, 1], [15, 2], [15, 3], [14, 4], [13, 5], [13, 6])\n",
      "Temperature (degrees C) by Day: ([12, 0], [13, 1], [14, 2], [13, 3], [14, 4], [14, 5], [14, 6])\n",
      "\n",
      "Food Name: Plain Yogurt\n",
      "Food Group: Dairy\n",
      "Colour (RGB) by Day: ([(255, 255, 255), 0], [(255, 255, 255), 1], [(255, 255, 250), 2], [(237, 237, 235), 3], [(227, 227, 216), 4], [(209, 209, 194), 5], [(210, 217, 184), 6])\n",
      "Mass (grams) by Day: ([650, 0], [650, 1], [649, 2], [647, 3], [646, 4], [644, 5], [639, 6])\n",
      "Temperature (degrees C) by Day: ([9, 0], [10, 1], [10, 2], [10, 3], [11, 4], [11, 5], [12, 6])\n",
      "\n",
      "Food Name: Pineapple\n",
      "Food Group: Fruit/Veg\n",
      "Colour (RGB) by Day: ([(247, 237, 121), 0], [(227, 217, 109), 1], [(204, 195, 98), 2], [(191, 182, 82), 3], [(184, 174, 72), 4], [(163, 154, 59), 5], [(189, 153, 62), 6])\n",
      "Mass (grams) by Day: ([600, 0], [598, 1], [595, 2], [594, 3], [594, 4], [590, 5], [587, 6])\n",
      "Temperature (degrees C) by Day: ([13, 0], [14, 1], [14, 2], [14, 3], [13, 4], [13, 5], [14, 6])\n",
      "\n"
     ]
    }
   ],
   "source": [
    "# written by lukas (i am the poorly endowed)\n",
    "\n",
    "# import csv\n",
    "# import ast\n",
    "\n",
    "class Food:\n",
    "    def __init__(self, food_name, food_group, colour_day, mass_day, temp_day):\n",
    "        self.food_name = food_name\n",
    "        self.food_group = food_group\n",
    "        self.colour_day = colour_day\n",
    "        self.mass_day = mass_day\n",
    "        self.temp_day = temp_day\n",
    "\n",
    "    def __str__(self):\n",
    "        return (\n",
    "            f\"Food Name: {self.food_name}\\n\"\n",
    "            f\"Food Group: {self.food_group}\\n\"\n",
    "            f\"Colour (RGB) by Day: {self.colour_day}\\n\"\n",
    "            f\"Mass (grams) by Day: {self.mass_day}\\n\"\n",
    "            f\"Temperature (degrees C) by Day: {self.temp_day}\\n\"\n",
    "        )\n",
    "\n",
    "foodList = []\n",
    "\n",
    "with open('ourData.csv', \"r\") as commentedFile: \n",
    "    reader = csv.reader(commentedFile)\n",
    "    next(reader)  # skip line of headers\n",
    "\n",
    "    for row in reader:\n",
    "        food_name = row[0].strip()\n",
    "        food_group = row[1].strip()\n",
    "        colour_day_raw = row[2].strip()\n",
    "        mass_day_raw = row[3].strip()\n",
    "        temp_day_raw = row[4].strip()\n",
    "\n",
    "        colour_day_list = ast.literal_eval(colour_day_raw)\n",
    "        mass_day_list = ast.literal_eval(mass_day_raw)\n",
    "        temp_day_list = ast.literal_eval(temp_day_raw)\n",
    "\n",
    "        # Use lists instead of dictionaries because duplicate values erases entries that we need\n",
    "        colour_day = colour_day_list\n",
    "        mass_day = mass_day_list\n",
    "        temp_day = temp_day_list\n",
    "\n",
    "        food = Food(food_name, food_group, colour_day, mass_day, temp_day)\n",
    "\n",
    "        foodList.append(food)\n",
    "\n",
    "for food in foodList:\n",
    "    print(food)\n"
   ]
  },
  {
   "cell_type": "markdown",
   "metadata": {},
   "source": [
    "Passing Data to math functions to create mass factors"
   ]
  },
  {
   "cell_type": "code",
   "execution_count": null,
   "metadata": {},
   "outputs": [
    {
     "name": "stdout",
     "output_type": "stream",
     "text": [
      "126\n",
      "12\n",
      "(253, 110, 80)\n",
      "125\n",
      "11\n",
      "(238, 105, 105)\n",
      "120\n"
     ]
    },
    {
     "ename": "StopIteration",
     "evalue": "",
     "output_type": "error",
     "traceback": [
      "\u001b[1;31m---------------------------------------------------------------------------\u001b[0m",
      "\u001b[1;31mStopIteration\u001b[0m                             Traceback (most recent call last)",
      "Cell \u001b[1;32mIn[60], line 41\u001b[0m\n\u001b[0;32m     39\u001b[0m mass_at_value \u001b[38;5;241m=\u001b[39m \u001b[38;5;28mnext\u001b[39m(key \u001b[38;5;28;01mfor\u001b[39;00m key, value \u001b[38;5;129;01min\u001b[39;00m foodList[\u001b[38;5;241m0\u001b[39m]\u001b[38;5;241m.\u001b[39mmass_day\u001b[38;5;241m.\u001b[39mitems() \u001b[38;5;28;01mif\u001b[39;00m value \u001b[38;5;241m==\u001b[39m time)\n\u001b[0;32m     40\u001b[0m \u001b[38;5;28mprint\u001b[39m(mass_at_value)\n\u001b[1;32m---> 41\u001b[0m temp_at_value \u001b[38;5;241m=\u001b[39m \u001b[38;5;28;43mnext\u001b[39;49m\u001b[43m(\u001b[49m\u001b[43mkey\u001b[49m\u001b[43m \u001b[49m\u001b[38;5;28;43;01mfor\u001b[39;49;00m\u001b[43m \u001b[49m\u001b[43mkey\u001b[49m\u001b[43m,\u001b[49m\u001b[43m \u001b[49m\u001b[43mvalue\u001b[49m\u001b[43m \u001b[49m\u001b[38;5;129;43;01min\u001b[39;49;00m\u001b[43m \u001b[49m\u001b[43mfoodList\u001b[49m\u001b[43m[\u001b[49m\u001b[38;5;241;43m0\u001b[39;49m\u001b[43m]\u001b[49m\u001b[38;5;241;43m.\u001b[39;49m\u001b[43mtemp_day\u001b[49m\u001b[38;5;241;43m.\u001b[39;49m\u001b[43mitems\u001b[49m\u001b[43m(\u001b[49m\u001b[43m)\u001b[49m\u001b[43m \u001b[49m\u001b[38;5;28;43;01mif\u001b[39;49;00m\u001b[43m \u001b[49m\u001b[43mvalue\u001b[49m\u001b[43m \u001b[49m\u001b[38;5;241;43m==\u001b[39;49m\u001b[43m \u001b[49m\u001b[43mtime\u001b[49m\u001b[43m)\u001b[49m\n\u001b[0;32m     42\u001b[0m \u001b[38;5;28mprint\u001b[39m(temp_at_value)\n\u001b[0;32m     43\u001b[0m color_at_value \u001b[38;5;241m=\u001b[39m \u001b[38;5;28mnext\u001b[39m(key \u001b[38;5;28;01mfor\u001b[39;00m key, value \u001b[38;5;129;01min\u001b[39;00m foodList[\u001b[38;5;241m0\u001b[39m]\u001b[38;5;241m.\u001b[39mcolour_day\u001b[38;5;241m.\u001b[39mitems() \u001b[38;5;28;01mif\u001b[39;00m value \u001b[38;5;241m==\u001b[39m time)\n",
      "\u001b[1;31mStopIteration\u001b[0m: "
     ]
    }
   ],
   "source": [
    "# import math\n",
    "\n",
    "def freshness_index(time, mass_initial, mass_curr, temp_curr, temp_optimal, color_curr, color_optimal, weight_mass = 0.5, weight_temp = 0.3, weight_color = 0.2, alpha = 0.3, sigma = 5, lambda_ = 0.05):\n",
    "\n",
    "    # Mass Factor - not certain about this\n",
    "    mass_factor = (math.exp(-alpha * time * (mass_curr / mass_initial))) * weight_mass\n",
    "   \n",
    "    print(mass_factor)\n",
    "\n",
    "    # Temperature Factor\n",
    "    temp_factor = math.exp(-((temp_curr - temp_optimal) ** 2) / (2 * sigma ** 2)) * weight_temp\n",
    "    print(temp_factor)\n",
    "\n",
    "    # Color Factor - asm color_curr, color_optimal are in range RGB(0-255, 0-255, 0-255)\n",
    "    color_diff = math.sqrt((color_curr[0] - color_optimal[0]) ** 2 + (color_curr[1] - color_optimal[1]) ** 2 + (color_curr[2] - color_optimal[2]) ** 2)\n",
    "    color_factor = math.exp(-lambda_ * color_diff) * weight_color\n",
    "    print(color_factor)\n",
    "\n",
    "    # Freshness Index\n",
    "    freshness_index = mass_factor + temp_factor + color_factor\n",
    "    return min(1, freshness_index) # with the weights summing to 1, the maximum value of the freshness index is 1\n",
    "\n",
    "# # Test the function\n",
    "# test1 = freshness_index(time = 6, mass_initial = 126, mass_curr = 110, temp_curr = 14, temp_optimal = 12, color_curr = (145, 62, 41), color_optimal = (253, 110, 80))\n",
    "# print(test1)"
   ]
  },
  {
   "cell_type": "markdown",
   "metadata": {},
   "source": [
    "## Section 2 - Mathematical Function Initialization"
   ]
  },
  {
   "cell_type": "markdown",
   "metadata": {},
   "source": [
    "### Section 2.1: Sigmoid Function Declaration"
   ]
  },
  {
   "cell_type": "code",
   "execution_count": 27,
   "metadata": {},
   "outputs": [
    {
     "name": "stdout",
     "output_type": "stream",
     "text": [
      "sigma\n"
     ]
    }
   ],
   "source": [
    "print('sigma')"
   ]
  },
  {
   "cell_type": "markdown",
   "metadata": {},
   "source": [
    "### Section 2.2: Other Mathematical Functions"
   ]
  },
  {
   "cell_type": "code",
   "execution_count": 28,
   "metadata": {},
   "outputs": [
    {
     "name": "stdout",
     "output_type": "stream",
     "text": [
      "more math\n"
     ]
    }
   ],
   "source": [
    "print('more math')"
   ]
  },
  {
   "cell_type": "markdown",
   "metadata": {},
   "source": [
    "## Section 3 - Modelling"
   ]
  },
  {
   "cell_type": "markdown",
   "metadata": {},
   "source": [
    "### Section 3.1: Load data into model"
   ]
  },
  {
   "cell_type": "code",
   "execution_count": 29,
   "metadata": {},
   "outputs": [
    {
     "name": "stdout",
     "output_type": "stream",
     "text": [
      "LOAD IT MAN\n"
     ]
    }
   ],
   "source": [
    "print('LOAD IT MAN')"
   ]
  },
  {
   "cell_type": "markdown",
   "metadata": {},
   "source": [
    "### Section 3.2: Fit model"
   ]
  },
  {
   "cell_type": "code",
   "execution_count": 30,
   "metadata": {},
   "outputs": [
    {
     "name": "stdout",
     "output_type": "stream",
     "text": [
      "model.fit go brrrrr\n"
     ]
    }
   ],
   "source": [
    "print('model.fit go brrrrr')"
   ]
  },
  {
   "cell_type": "markdown",
   "metadata": {},
   "source": [
    "### Section 3.3: Evaluate accuracy"
   ]
  },
  {
   "cell_type": "code",
   "execution_count": 31,
   "metadata": {},
   "outputs": [
    {
     "name": "stdout",
     "output_type": "stream",
     "text": [
      "auroc man idk\n"
     ]
    }
   ],
   "source": [
    "print('auroc man idk')"
   ]
  },
  {
   "cell_type": "markdown",
   "metadata": {},
   "source": [
    "## Section 4 - Visualization"
   ]
  },
  {
   "cell_type": "markdown",
   "metadata": {},
   "source": [
    "### Section 4.1: Line graph"
   ]
  },
  {
   "cell_type": "code",
   "execution_count": 32,
   "metadata": {},
   "outputs": [
    {
     "name": "stdout",
     "output_type": "stream",
     "text": [
      "something something matplotlib\n"
     ]
    }
   ],
   "source": [
    "print('something something matplotlib')"
   ]
  },
  {
   "cell_type": "markdown",
   "metadata": {},
   "source": [
    "### Section 4.2: Other visualization"
   ]
  },
  {
   "cell_type": "code",
   "execution_count": 33,
   "metadata": {},
   "outputs": [
    {
     "name": "stdout",
     "output_type": "stream",
     "text": [
      "something something seaborn\n"
     ]
    }
   ],
   "source": [
    "print('something something seaborn')"
   ]
  },
  {
   "cell_type": "markdown",
   "metadata": {},
   "source": [
    "## Section 5 - Comparisons to other models (?)"
   ]
  },
  {
   "cell_type": "markdown",
   "metadata": {},
   "source": [
    "### Section 5.1: Comparison to linear regression"
   ]
  },
  {
   "cell_type": "code",
   "execution_count": 34,
   "metadata": {},
   "outputs": [
    {
     "name": "stdout",
     "output_type": "stream",
     "text": [
      "news flash: linear regression sucks\n"
     ]
    }
   ],
   "source": [
    "print('news flash: linear regression sucks')"
   ]
  },
  {
   "cell_type": "markdown",
   "metadata": {},
   "source": [
    "## Section 6 - Conclusions to draw"
   ]
  },
  {
   "cell_type": "code",
   "execution_count": 35,
   "metadata": {},
   "outputs": [
    {
     "name": "stdout",
     "output_type": "stream",
     "text": [
      "overall, our model is better than the other one\n"
     ]
    }
   ],
   "source": [
    "print('overall, our model is better than the other one')"
   ]
  }
 ],
 "metadata": {
  "kernelspec": {
   "display_name": "Python 3",
   "language": "python",
   "name": "python3"
  },
  "language_info": {
   "codemirror_mode": {
    "name": "ipython",
    "version": 3
   },
   "file_extension": ".py",
   "mimetype": "text/x-python",
   "name": "python",
   "nbconvert_exporter": "python",
   "pygments_lexer": "ipython3",
   "version": "3.12.3"
  }
 },
 "nbformat": 4,
 "nbformat_minor": 2
}
