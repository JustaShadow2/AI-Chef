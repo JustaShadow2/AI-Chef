{
 "cells": [
  {
   "cell_type": "markdown",
   "metadata": {},
   "source": [
    "# <b>DS3000 Group Project</b>"
   ]
  },
  {
   "cell_type": "markdown",
   "metadata": {},
   "source": [
    "# <b>Chef.AI</b> - Lukas Bozinov & Arjun Atwal - Group 31"
   ]
  },
  {
   "cell_type": "markdown",
   "metadata": {},
   "source": [
    "## Section 0 - Preliminary Code"
   ]
  },
  {
   "cell_type": "markdown",
   "metadata": {},
   "source": [
    "### Section 0.1: Import all necessary libraries"
   ]
  },
  {
   "cell_type": "code",
   "execution_count": 99,
   "metadata": {},
   "outputs": [],
   "source": [
    "import numpy as np #etc etc etc\n",
    "import pandas as pd\n",
    "import matplotlib.pyplot as plt\n",
    "from scipy.optimize import curve_fit\n",
    "import csv, ast, math"
   ]
  },
  {
   "cell_type": "markdown",
   "metadata": {},
   "source": [
    "### Section 0.2: Other things"
   ]
  },
  {
   "cell_type": "code",
   "execution_count": 100,
   "metadata": {},
   "outputs": [
    {
     "name": "stdout",
     "output_type": "stream",
     "text": [
      "balls in 3D\n"
     ]
    }
   ],
   "source": [
    "print('balls in 3D')"
   ]
  },
  {
   "cell_type": "markdown",
   "metadata": {},
   "source": [
    "## Section 1 - Organization of Dataset"
   ]
  },
  {
   "cell_type": "markdown",
   "metadata": {},
   "source": [
    "### Section 1.1: Parse the dataset\n",
    "Formatting data into a format that is easily passed to math functions."
   ]
  },
  {
   "cell_type": "code",
   "execution_count": 101,
   "metadata": {},
   "outputs": [],
   "source": [
    "# written by lukas (i am the goat)\n",
    "\n",
    "class Food:\n",
    "    def __init__(self, food_name, food_group, colour_day, mass_day, temp_day):\n",
    "        self.food_name = food_name\n",
    "        self.food_group = food_group\n",
    "        self.colour_day = colour_day\n",
    "        self.mass_day = mass_day\n",
    "        self.temp_day = temp_day\n",
    "\n",
    "    def __str__(self):\n",
    "        return (\n",
    "            f\"Food Name: {self.food_name}\\n\"\n",
    "            f\"Food Group: {self.food_group}\\n\"\n",
    "            f\"Colour (RGB) by Day: {self.colour_day}\\n\"\n",
    "            f\"Mass (grams) by Day: {self.mass_day}\\n\"\n",
    "            f\"Temperature (degrees C) by Day: {self.temp_day}\\n\"\n",
    "        )\n",
    "\n",
    "foodList = []\n",
    "\n",
    "with open('ourData.csv', \"r\") as commentedFile: \n",
    "    reader = csv.reader(commentedFile)\n",
    "    next(reader)  # skip line of headers\n",
    "\n",
    "    for row in reader:\n",
    "        food_name = row[0].strip()\n",
    "        food_group = row[1].strip()\n",
    "        colour_day_raw = row[2].strip()\n",
    "        mass_day_raw = row[3].strip()\n",
    "        temp_day_raw = row[4].strip()\n",
    "\n",
    "        colour_day_list = ast.literal_eval(colour_day_raw)\n",
    "        mass_day_list = ast.literal_eval(mass_day_raw)\n",
    "        temp_day_list = ast.literal_eval(temp_day_raw)\n",
    "\n",
    "        # Use lists instead of dictionaries because duplicate values erases entries that we need\n",
    "        colour_day = colour_day_list\n",
    "        mass_day = mass_day_list\n",
    "        temp_day = temp_day_list\n",
    "\n",
    "        food = Food(food_name, food_group, colour_day, mass_day, temp_day)\n",
    "\n",
    "        foodList.append(food)\n",
    "\n",
    "# get total number of days for later processing\n",
    "numDays = len(foodList[0].colour_day)\n",
    "\n"
   ]
  },
  {
   "cell_type": "markdown",
   "metadata": {},
   "source": [
    "### Section 1.2: Data Pre-Processing\n",
    "Passing Data to math functions to create mass factors"
   ]
  },
  {
   "cell_type": "code",
   "execution_count": 102,
   "metadata": {},
   "outputs": [
    {
     "name": "stdout",
     "output_type": "stream",
     "text": [
      "Time = 0\n",
      "1\n",
      "Time = 1\n",
      "0.710923868536591\n",
      "Time = 2\n",
      "0.63709970475181\n",
      "Time = 3\n",
      "0.511606076772564\n",
      "Time = 4\n",
      "0.44434784966860497\n",
      "Time = 5\n",
      "0.40576335646495826\n",
      "Time = 6\n",
      "0.381205757697219\n",
      "[0 1 2 3 4 5 6]\n",
      "[1.         0.71092387 0.6370997  0.51160608 0.44434785 0.40576336\n",
      " 0.38120576]\n"
     ]
    }
   ],
   "source": [
    "# import deez\n",
    "\n",
    "def freshness_index(time, mass_initial, mass_curr, temp_curr, temp_optimal, color_curr, color_optimal, weight_mass = 0.5, weight_temp = 0.3, weight_color = 0.2, alpha = 0.3, sigma = 5, lambda_ = 0.05):\n",
    "\n",
    "    # Mass Factor - not certain about this\n",
    "    mass_factor = (math.exp(-alpha * time * (mass_curr / mass_initial))) * weight_mass\n",
    "    # print(mass_factor)\n",
    "\n",
    "    # Temperature Factor\n",
    "    temp_factor = math.exp(-((temp_curr - temp_optimal) ** 2) / (2 * sigma ** 2)) * weight_temp\n",
    "    # print(temp_factor)\n",
    "\n",
    "    # Color Factor - asm color_curr, color_optimal are in range RGB(0-255, 0-255, 0-255)\n",
    "    color_diff = math.sqrt((color_curr[0] - color_optimal[0]) ** 2 + (color_curr[1] - color_optimal[1]) ** 2 + (color_curr[2] - color_optimal[2]) ** 2)\n",
    "    color_factor = math.exp(-lambda_ * color_diff) * weight_color\n",
    "    # print(color_factor)\n",
    "\n",
    "    # Freshness Index\n",
    "    freshness_index = mass_factor + temp_factor + color_factor\n",
    "    return min(1, freshness_index) # with the weights summing to 1, the maximum value of the freshness index is 1\n",
    "\n",
    "\n",
    "# initialize optimal values for the freshness_index function\n",
    "color_optimal = (foodList[0].colour_day[0][0])\n",
    "temp_optimal = foodList[0].temp_day[0][0]\n",
    "mass_initial = foodList[0].mass_day[0][0]\n",
    "\n",
    "days = []\n",
    "for i in range(numDays):\n",
    "    days.append(i)\n",
    "\n",
    "    #freshness_values = np.array([1.0, 0.710923868536591, 0.63709970475181, 0.511606076772564, 0.44434784966860497, 0.40576335646495826, 0.381205757697219])\n",
    "\n",
    "days = np.array(days)\n",
    "\n",
    "freshness_values = []\n",
    "\n",
    "for i in range(numDays):\n",
    "    color_curr = (foodList[0].colour_day[i][0])\n",
    "    temp_curr = foodList[0].temp_day[i][0]\n",
    "    mass_curr = foodList[0].mass_day[i][0]\n",
    "    time = i\n",
    "\n",
    "    # print(color_curr)\n",
    "    # print(temp_curr)\n",
    "    # print(mass_curr)\n",
    "    # print(time)\n",
    "    print('Time =', time)\n",
    "    freshnessindex = freshness_index(time, mass_initial, mass_curr, temp_curr, temp_optimal, color_curr, color_optimal)\n",
    "    print(freshnessindex)\n",
    "    freshness_values.append(freshnessindex)\n",
    "\n",
    "freshness_values = np.array(freshness_values)\n",
    "\n",
    "print(days)\n",
    "print(freshness_values)\n",
    "\n"
   ]
  },
  {
   "cell_type": "markdown",
   "metadata": {},
   "source": [
    "## Section 2 - Mathematical Function Initialization"
   ]
  },
  {
   "cell_type": "markdown",
   "metadata": {},
   "source": [
    "### Section 2.1: Sigmoid Function Declaration"
   ]
  },
  {
   "cell_type": "code",
   "execution_count": null,
   "metadata": {},
   "outputs": [
    {
     "data": {
      "image/png": "[encoded data removed]",
      "text/plain": [
       "<Figure size 640x480 with 1 Axes>"
      ]
     },
     "metadata": {},
     "output_type": "display_data"
    }
   ],
   "source": [
    "# Define the sigmoid decay model function\n",
    "def freshness_sigmoid_model(t, L, k, t_0):\n",
    "    return L / (1 + np.exp(-k * (t - t_0)))\n",
    "\n",
    "days = days*4 # why the hell do i have to multiply by 4 to get no overflow?\n",
    "#no seriously man wtf\n",
    "\n",
    "# Provide initial parameter guesses and increase maxfev\n",
    "initial_guesses = [1, 1, 12]  # Starting guesses for L, k, and t_0, L controls the maximum freshness value, k controls the steepness of the curve, and t_0 controls the midpoint of the curve.\n",
    "params, covariance = curve_fit(\n",
    "    freshness_sigmoid_model, \n",
    "    days, \n",
    "    freshness_values, \n",
    "    p0=initial_guesses, \n",
    "    maxfev=5000\n",
    ")\n",
    "\n",
    "# Extract fitted parameters\n",
    "L, k, t_0 = params\n",
    "\n",
    "# Predict freshness values for all days up to Day 5\n",
    "days_extended = np.linspace(0, 24, 100)  # Use a smoother range for better curve\n",
    "predicted_freshness = freshness_sigmoid_model(days_extended, L, k, t_0)\n",
    "\n",
    "# Plot the observed data and the fitted sigmoid curve\n",
    "plt.scatter(days, freshness_values, color='blue', label='Observed Data Points)')\n",
    "plt.plot(days_extended, predicted_freshness, color='red', label='Nonlinear Sigmoid Decay Curve')\n",
    "plt.xlabel('Days')\n",
    "plt.ylabel('Freshness Index')\n",
    "plt.title('Nonlinear Freshness Index Decay with Expected Spoilage at Day 7')\n",
    "plt.legend()\n",
    "plt.show()"
   ]
  },
  {
   "cell_type": "markdown",
   "metadata": {},
   "source": [
    "### Section 2.2: Other Mathematical Functions"
   ]
  },
  {
   "cell_type": "code",
   "execution_count": 104,
   "metadata": {},
   "outputs": [
    {
     "name": "stdout",
     "output_type": "stream",
     "text": [
      "more math\n"
     ]
    }
   ],
   "source": [
    "print('more math')"
   ]
  },
  {
   "cell_type": "markdown",
   "metadata": {},
   "source": [
    "## Section 3 - Modelling"
   ]
  },
  {
   "cell_type": "markdown",
   "metadata": {},
   "source": [
    "### Section 3.1: Load data into model"
   ]
  },
  {
   "cell_type": "code",
   "execution_count": 105,
   "metadata": {},
   "outputs": [
    {
     "name": "stdout",
     "output_type": "stream",
     "text": [
      "LOAD IT MAN\n"
     ]
    }
   ],
   "source": [
    "print('LOAD IT MAN')"
   ]
  },
  {
   "cell_type": "markdown",
   "metadata": {},
   "source": [
    "### Section 3.2: Fit model"
   ]
  },
  {
   "cell_type": "code",
   "execution_count": 106,
   "metadata": {},
   "outputs": [
    {
     "name": "stdout",
     "output_type": "stream",
     "text": [
      "model.fit go brrrrr\n"
     ]
    }
   ],
   "source": [
    "print('model.fit go brrrrr')"
   ]
  },
  {
   "cell_type": "markdown",
   "metadata": {},
   "source": [
    "### Section 3.3: Evaluate accuracy"
   ]
  },
  {
   "cell_type": "code",
   "execution_count": 107,
   "metadata": {},
   "outputs": [
    {
     "name": "stdout",
     "output_type": "stream",
     "text": [
      "auroc man idk\n"
     ]
    }
   ],
   "source": [
    "print('auroc man idk')"
   ]
  },
  {
   "cell_type": "markdown",
   "metadata": {},
   "source": [
    "## Section 4 - Visualization"
   ]
  },
  {
   "cell_type": "markdown",
   "metadata": {},
   "source": [
    "### Section 4.1: Line graph"
   ]
  },
  {
   "cell_type": "code",
   "execution_count": 108,
   "metadata": {},
   "outputs": [
    {
     "name": "stdout",
     "output_type": "stream",
     "text": [
      "something something matplotlib\n"
     ]
    }
   ],
   "source": [
    "print('something something matplotlib')"
   ]
  },
  {
   "cell_type": "markdown",
   "metadata": {},
   "source": [
    "### Section 4.2: Other visualization"
   ]
  },
  {
   "cell_type": "code",
   "execution_count": 109,
   "metadata": {},
   "outputs": [
    {
     "name": "stdout",
     "output_type": "stream",
     "text": [
      "something something seaborn\n"
     ]
    }
   ],
   "source": [
    "print('something something seaborn')"
   ]
  },
  {
   "cell_type": "markdown",
   "metadata": {},
   "source": [
    "## Section 5 - Comparisons to other models (?)"
   ]
  },
  {
   "cell_type": "markdown",
   "metadata": {},
   "source": [
    "### Section 5.1: Comparison to linear regression"
   ]
  },
  {
   "cell_type": "code",
   "execution_count": 110,
   "metadata": {},
   "outputs": [
    {
     "name": "stdout",
     "output_type": "stream",
     "text": [
      "news flash: linear regression sucks\n"
     ]
    }
   ],
   "source": [
    "print('news flash: linear regression sucks')"
   ]
  },
  {
   "cell_type": "markdown",
   "metadata": {},
   "source": [
    "## Section 6 - Conclusions to draw"
   ]
  },
  {
   "cell_type": "code",
   "execution_count": 111,
   "metadata": {},
   "outputs": [
    {
     "name": "stdout",
     "output_type": "stream",
     "text": [
      "overall, our model is better than the other one\n"
     ]
    }
   ],
   "source": [
    "print('overall, our model is better than the other one')"
   ]
  }
 ],
 "metadata": {
  "kernelspec": {
   "display_name": "Python 3",
   "language": "python",
   "name": "python3"
  },
  "language_info": {
   "codemirror_mode": {
    "name": "ipython",
    "version": 3
   },
   "file_extension": ".py",
   "mimetype": "text/x-python",
   "name": "python",
   "nbconvert_exporter": "python",
   "pygments_lexer": "ipython3",
   "version": "3.12.6"
  }
 },
 "nbformat": 4,
 "nbformat_minor": 2
}
