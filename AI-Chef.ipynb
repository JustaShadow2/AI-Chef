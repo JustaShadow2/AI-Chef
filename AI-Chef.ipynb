{
 "cells": [
  {
   "cell_type": "markdown",
   "metadata": {},
   "source": [
    "# <b>DS3000 Group Project</b>"
   ]
  },
  {
   "cell_type": "markdown",
   "metadata": {},
   "source": [
    "# <b>Chef.AI</b> - Lukas Bozinov & Arjun Atwal - Group 31"
   ]
  },
  {
   "cell_type": "markdown",
   "metadata": {},
   "source": [
    "## Section 0 - Preliminary Code"
   ]
  },
  {
   "cell_type": "markdown",
   "metadata": {},
   "source": [
    "### Section 0.1: Import all necessary libraries"
   ]
  },
  {
   "cell_type": "code",
   "execution_count": 31,
   "metadata": {},
   "outputs": [],
   "source": [
    "import math\n",
    "import numpy as np #etc etc etc\n",
    "import pandas as pd\n",
    "import matplotlib.pyplot as plt\n",
    "from scipy.optimize import curve_fit\n",
    "import csv, ast"
   ]
  },
  {
   "cell_type": "markdown",
   "metadata": {},
   "source": [
    "### Section 0.2: Other things"
   ]
  },
  {
   "cell_type": "code",
   "execution_count": 24,
   "metadata": {},
   "outputs": [
    {
     "name": "stdout",
     "output_type": "stream",
     "text": [
      "balls in 3D\n"
     ]
    }
   ],
   "source": [
    "print('balls in 3D')"
   ]
  },
  {
   "cell_type": "markdown",
   "metadata": {},
   "source": [
    "## Section 1 - Organization of Dataset"
   ]
  },
  {
   "cell_type": "markdown",
   "metadata": {},
   "source": [
    "### Section 1.1: Parse the dataset"
   ]
  },
  {
   "cell_type": "code",
   "execution_count": 25,
   "metadata": {},
   "outputs": [
    {
     "name": "stdout",
     "output_type": "stream",
     "text": [
      "balls\n"
     ]
    }
   ],
   "source": [
    "print('balls')"
   ]
  },
  {
   "cell_type": "markdown",
   "metadata": {},
   "source": [
    "### Section 1.2: Data Pre-Processing"
   ]
  },
  {
   "cell_type": "markdown",
   "metadata": {},
   "source": [
    "Formatting Data into a format that is easily passed to math functions"
   ]
  },
  {
   "cell_type": "code",
   "execution_count": null,
   "metadata": {},
   "outputs": [
    {
     "name": "stdout",
     "output_type": "stream",
     "text": [
      "(253, 110, 80)\n",
      "(238, 105, 105)\n",
      "(235, 103, 94)\n",
      "(173, 73, 66)\n",
      "(130, 52, 47)\n",
      "(128, 44, 41)\n",
      "(145, 62, 41)\n"
     ]
    }
   ],
   "source": [
    "# written by lukas (i am the goat)\n",
    "\n",
    "# import csv\n",
    "# import ast\n",
    "\n",
    "class Food:\n",
    "    def __init__(self, food_name, food_group, colour_day, mass_day, temp_day):\n",
    "        self.food_name = food_name\n",
    "        self.food_group = food_group\n",
    "        self.colour_day = colour_day\n",
    "        self.mass_day = mass_day\n",
    "        self.temp_day = temp_day\n",
    "\n",
    "    def __str__(self):\n",
    "        return (\n",
    "            f\"Food Name: {self.food_name}\\n\"\n",
    "            f\"Food Group: {self.food_group}\\n\"\n",
    "            f\"Colour (RGB) by Day: {self.colour_day}\\n\"\n",
    "            f\"Mass (grams) by Day: {self.mass_day}\\n\"\n",
    "            f\"Temperature (degrees C) by Day: {self.temp_day}\\n\"\n",
    "        )\n",
    "\n",
    "foodList = []\n",
    "\n",
    "with open('ourData.csv', \"r\") as commentedFile: \n",
    "    reader = csv.reader(commentedFile)\n",
    "    next(reader)  # skip line of headers\n",
    "\n",
    "    for row in reader:\n",
    "        food_name = row[0].strip()\n",
    "        food_group = row[1].strip()\n",
    "        colour_day_raw = row[2].strip()\n",
    "        mass_day_raw = row[3].strip()\n",
    "        temp_day_raw = row[4].strip()\n",
    "\n",
    "        colour_day_list = ast.literal_eval(colour_day_raw)\n",
    "        mass_day_list = ast.literal_eval(mass_day_raw)\n",
    "        temp_day_list = ast.literal_eval(temp_day_raw)\n",
    "\n",
    "        # Use lists instead of dictionaries because duplicate values erases entries that we need\n",
    "        colour_day = colour_day_list\n",
    "        mass_day = mass_day_list\n",
    "        temp_day = temp_day_list\n",
    "\n",
    "        food = Food(food_name, food_group, colour_day, mass_day, temp_day)\n",
    "\n",
    "        foodList.append(food)\n",
    "\n",
    "# for food in foodList:\n",
    "#     print(food)\n",
    "\n"
   ]
  },
  {
   "cell_type": "markdown",
   "metadata": {},
   "source": [
    "Passing Data to math functions to create mass factors"
   ]
  },
  {
   "cell_type": "code",
   "execution_count": 85,
   "metadata": {},
   "outputs": [
    {
     "name": "stdout",
     "output_type": "stream",
     "text": [
      "(253, 110, 80)\n",
      "12\n",
      "126\n",
      "Time = 0\n",
      "1\n",
      "Time = 1\n",
      "0.710923868536591\n",
      "Time = 2\n",
      "0.63709970475181\n",
      "Time = 3\n",
      "0.511606076772564\n",
      "Time = 4\n",
      "0.44434784966860497\n",
      "Time = 5\n",
      "0.40576335646495826\n",
      "Time = 6\n",
      "0.381205757697219\n"
     ]
    }
   ],
   "source": [
    "# import math\n",
    "\n",
    "def freshness_index(time, mass_initial, mass_curr, temp_curr, temp_optimal, color_curr, color_optimal, weight_mass = 0.5, weight_temp = 0.3, weight_color = 0.2, alpha = 0.3, sigma = 5, lambda_ = 0.05):\n",
    "\n",
    "    # Mass Factor - not certain about this\n",
    "    mass_factor = (math.exp(-alpha * time * (mass_curr / mass_initial))) * weight_mass\n",
    "    # print(mass_factor)\n",
    "\n",
    "    # Temperature Factor\n",
    "    temp_factor = math.exp(-((temp_curr - temp_optimal) ** 2) / (2 * sigma ** 2)) * weight_temp\n",
    "    # print(temp_factor)\n",
    "\n",
    "    # Color Factor - asm color_curr, color_optimal are in range RGB(0-255, 0-255, 0-255)\n",
    "    color_diff = math.sqrt((color_curr[0] - color_optimal[0]) ** 2 + (color_curr[1] - color_optimal[1]) ** 2 + (color_curr[2] - color_optimal[2]) ** 2)\n",
    "    color_factor = math.exp(-lambda_ * color_diff) * weight_color\n",
    "    # print(color_factor)\n",
    "\n",
    "    # Freshness Index\n",
    "    freshness_index = mass_factor + temp_factor + color_factor\n",
    "    return min(1, freshness_index) # with the weights summing to 1, the maximum value of the freshness index is 1\n",
    "\n",
    "# # Test the function\n",
    "# test1 = freshness_index(time = 6, mass_initial = 126, mass_curr = 110, temp_curr = 14, temp_optimal = 12, color_curr = (145, 62, 41), color_optimal = (253, 110, 80))\n",
    "# print(test1)\n",
    "# 0.381205757697219\n",
    "\n",
    "\n",
    "color_optimal = (foodList[0].colour_day[0][0])\n",
    "print(color_optimal)\n",
    "temp_optimal = foodList[0].temp_day[0][0]\n",
    "print(temp_optimal)\n",
    "mass_initial = foodList[0].mass_day[0][0]\n",
    "print(mass_initial)\n",
    "\n",
    "\n",
    "for i in range(len(foodList[0].colour_day)):\n",
    "    color_curr = (foodList[0].colour_day[i][0])\n",
    "    temp_curr = foodList[0].temp_day[i][0]\n",
    "    mass_curr = foodList[0].mass_day[i][0]\n",
    "    time = i\n",
    "\n",
    "    # print(color_curr)\n",
    "    # print(temp_curr)\n",
    "    # print(mass_curr)\n",
    "    # print(time)\n",
    "    print('Time =', time)\n",
    "    print(freshness_index(time, mass_initial, mass_curr, temp_curr, temp_optimal, color_curr, color_optimal))\n",
    "\n",
    "\n"
   ]
  },
  {
   "cell_type": "markdown",
   "metadata": {},
   "source": [
    "## Section 2 - Mathematical Function Initialization"
   ]
  },
  {
   "cell_type": "markdown",
   "metadata": {},
   "source": [
    "### Section 2.1: Sigmoid Function Declaration"
   ]
  },
  {
   "cell_type": "code",
   "execution_count": 27,
   "metadata": {},
   "outputs": [
    {
     "name": "stdout",
     "output_type": "stream",
     "text": [
      "sigma\n"
     ]
    }
   ],
   "source": [
    "print('sigma')"
   ]
  },
  {
   "cell_type": "markdown",
   "metadata": {},
   "source": [
    "### Section 2.2: Other Mathematical Functions"
   ]
  },
  {
   "cell_type": "code",
   "execution_count": 28,
   "metadata": {},
   "outputs": [
    {
     "name": "stdout",
     "output_type": "stream",
     "text": [
      "more math\n"
     ]
    }
   ],
   "source": [
    "print('more math')"
   ]
  },
  {
   "cell_type": "markdown",
   "metadata": {},
   "source": [
    "## Section 3 - Modelling"
   ]
  },
  {
   "cell_type": "markdown",
   "metadata": {},
   "source": [
    "### Section 3.1: Load data into model"
   ]
  },
  {
   "cell_type": "code",
   "execution_count": 29,
   "metadata": {},
   "outputs": [
    {
     "name": "stdout",
     "output_type": "stream",
     "text": [
      "LOAD IT MAN\n"
     ]
    }
   ],
   "source": [
    "print('LOAD IT MAN')"
   ]
  },
  {
   "cell_type": "markdown",
   "metadata": {},
   "source": [
    "### Section 3.2: Fit model"
   ]
  },
  {
   "cell_type": "code",
   "execution_count": 30,
   "metadata": {},
   "outputs": [
    {
     "name": "stdout",
     "output_type": "stream",
     "text": [
      "model.fit go brrrrr\n"
     ]
    }
   ],
   "source": [
    "print('model.fit go brrrrr')"
   ]
  },
  {
   "cell_type": "markdown",
   "metadata": {},
   "source": [
    "### Section 3.3: Evaluate accuracy"
   ]
  },
  {
   "cell_type": "code",
   "execution_count": 31,
   "metadata": {},
   "outputs": [
    {
     "name": "stdout",
     "output_type": "stream",
     "text": [
      "auroc man idk\n"
     ]
    }
   ],
   "source": [
    "print('auroc man idk')"
   ]
  },
  {
   "cell_type": "markdown",
   "metadata": {},
   "source": [
    "## Section 4 - Visualization"
   ]
  },
  {
   "cell_type": "markdown",
   "metadata": {},
   "source": [
    "### Section 4.1: Line graph"
   ]
  },
  {
   "cell_type": "code",
   "execution_count": 32,
   "metadata": {},
   "outputs": [
    {
     "name": "stdout",
     "output_type": "stream",
     "text": [
      "something something matplotlib\n"
     ]
    }
   ],
   "source": [
    "print('something something matplotlib')"
   ]
  },
  {
   "cell_type": "markdown",
   "metadata": {},
   "source": [
    "### Section 4.2: Other visualization"
   ]
  },
  {
   "cell_type": "code",
   "execution_count": 33,
   "metadata": {},
   "outputs": [
    {
     "name": "stdout",
     "output_type": "stream",
     "text": [
      "something something seaborn\n"
     ]
    }
   ],
   "source": [
    "print('something something seaborn')"
   ]
  },
  {
   "cell_type": "markdown",
   "metadata": {},
   "source": [
    "## Section 5 - Comparisons to other models (?)"
   ]
  },
  {
   "cell_type": "markdown",
   "metadata": {},
   "source": [
    "### Section 5.1: Comparison to linear regression"
   ]
  },
  {
   "cell_type": "code",
   "execution_count": 34,
   "metadata": {},
   "outputs": [
    {
     "name": "stdout",
     "output_type": "stream",
     "text": [
      "news flash: linear regression sucks\n"
     ]
    }
   ],
   "source": [
    "print('news flash: linear regression sucks')"
   ]
  },
  {
   "cell_type": "markdown",
   "metadata": {},
   "source": [
    "## Section 6 - Conclusions to draw"
   ]
  },
  {
   "cell_type": "code",
   "execution_count": 35,
   "metadata": {},
   "outputs": [
    {
     "name": "stdout",
     "output_type": "stream",
     "text": [
      "overall, our model is better than the other one\n"
     ]
    }
   ],
   "source": [
    "print('overall, our model is better than the other one')"
   ]
  }
 ],
 "metadata": {
  "kernelspec": {
   "display_name": "Python 3",
   "language": "python",
   "name": "python3"
  },
  "language_info": {
   "codemirror_mode": {
    "name": "ipython",
    "version": 3
   },
   "file_extension": ".py",
   "mimetype": "text/x-python",
   "name": "python",
   "nbconvert_exporter": "python",
   "pygments_lexer": "ipython3",
   "version": "3.12.3"
  }
 },
 "nbformat": 4,
 "nbformat_minor": 2
}
